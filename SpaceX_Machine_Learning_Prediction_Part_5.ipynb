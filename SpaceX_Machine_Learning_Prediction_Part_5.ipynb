{
  "nbformat": 4,
  "nbformat_minor": 0,
  "metadata": {
    "kernelspec": {
      "display_name": "Python 3",
      "language": "python",
      "name": "python3"
    },
    "language_info": {
      "codemirror_mode": {
        "name": "ipython",
        "version": 3
      },
      "file_extension": ".py",
      "mimetype": "text/x-python",
      "name": "python",
      "nbconvert_exporter": "python",
      "pygments_lexer": "ipython3",
      "version": "3.8.8"
    },
    "colab": {
      "name": "SpaceX_Machine Learning Prediction_Part_5.ipynb",
      "provenance": []
    }
  },
  "cells": [
    {
      "cell_type": "markdown",
      "metadata": {
        "id": "D2_iPGViy_7J"
      },
      "source": [
        "<center>\n",
        "    <img src=\"https://gitlab.com/ibm/skills-network/courses/placeholder101/-/raw/master/labs/module%201/images/IDSNlogo.png\" width=\"300\" alt=\"cognitiveclass.ai logo\"  />\n",
        "</center>\n"
      ]
    },
    {
      "cell_type": "markdown",
      "metadata": {
        "id": "ir1NiKbNy_7M"
      },
      "source": [
        "# **Space X  Falcon 9 First Stage Landing Prediction**\n"
      ]
    },
    {
      "cell_type": "markdown",
      "metadata": {
        "id": "tG5FvqeUy_7N"
      },
      "source": [
        "## Assignment:  Machine Learning Prediction\n"
      ]
    },
    {
      "cell_type": "markdown",
      "metadata": {
        "id": "ZorihRY7y_7N"
      },
      "source": [
        "Estimated time needed: **60** minutes\n"
      ]
    },
    {
      "cell_type": "markdown",
      "metadata": {
        "id": "WZScKBdRy_7N"
      },
      "source": [
        "Space X advertises Falcon 9 rocket launches on its website with a cost of 62 million dollars; other providers cost upward of 165 million dollars each, much of the savings is because Space X can reuse the first stage. Therefore if we can determine if the first stage will land, we can determine the cost of a launch. This information can be used if an alternate company wants to bid against space X for a rocket launch.   In this lab, you will create a machine learning pipeline  to predict if the first stage will land given the data from the preceding labs.\n"
      ]
    },
    {
      "cell_type": "markdown",
      "metadata": {
        "id": "IN693H-sy_7O"
      },
      "source": [
        "![](https://cf-courses-data.s3.us.cloud-object-storage.appdomain.cloud/IBMDeveloperSkillsNetwork-DS0701EN-SkillsNetwork/api/Images/landing\\_1.gif)\n"
      ]
    },
    {
      "cell_type": "markdown",
      "metadata": {
        "id": "D2jF7Epzy_7O"
      },
      "source": [
        "Several examples of an unsuccessful landing are shown here:\n"
      ]
    },
    {
      "cell_type": "markdown",
      "metadata": {
        "id": "dpPZv7Hly_7O"
      },
      "source": [
        "![](https://cf-courses-data.s3.us.cloud-object-storage.appdomain.cloud/IBMDeveloperSkillsNetwork-DS0701EN-SkillsNetwork/api/Images/crash.gif)\n"
      ]
    },
    {
      "cell_type": "markdown",
      "metadata": {
        "id": "atA7wtPoy_7P"
      },
      "source": [
        "Most unsuccessful landings are planed. Space X; performs a controlled landing in the oceans.\n"
      ]
    },
    {
      "cell_type": "markdown",
      "metadata": {
        "id": "MI0jCRW9y_7P"
      },
      "source": [
        "## Objectives\n"
      ]
    },
    {
      "cell_type": "markdown",
      "metadata": {
        "id": "ThJ7ZffKy_7P"
      },
      "source": [
        "Perform exploratory  Data Analysis and determine Training Labels\n",
        "\n",
        "*   create a column for the class\n",
        "*   Standardize the data\n",
        "*   Split into training data and test data\n",
        "\n",
        "\\-Find best Hyperparameter for SVM, Classification Trees and Logistic Regression\n",
        "\n",
        "*   Find the method performs best using test data\n"
      ]
    },
    {
      "cell_type": "markdown",
      "metadata": {
        "id": "x10ow8igy_7Q"
      },
      "source": [
        ""
      ]
    },
    {
      "cell_type": "markdown",
      "metadata": {
        "id": "yLZO-Fhey_7Q"
      },
      "source": [
        "***\n"
      ]
    },
    {
      "cell_type": "markdown",
      "metadata": {
        "id": "ZTGUwGLdy_7R"
      },
      "source": [
        "## Import Libraries and Define Auxiliary Functions\n"
      ]
    },
    {
      "cell_type": "markdown",
      "metadata": {
        "id": "TsxOjQmmy_7R"
      },
      "source": [
        "We will import the following libraries for the lab\n"
      ]
    },
    {
      "cell_type": "code",
      "metadata": {
        "id": "XAyrA_yoy_7S"
      },
      "source": [
        "# Pandas is a software library written for the Python programming language for data manipulation and analysis.\n",
        "import pandas as pd\n",
        "# NumPy is a library for the Python programming language, adding support for large, multi-dimensional arrays and matrices, along with a large collection of high-level mathematical functions to operate on these arrays\n",
        "import numpy as np\n",
        "# Matplotlib is a plotting library for python and pyplot gives us a MatLab like plotting framework. We will use this in our plotter function to plot data.\n",
        "import matplotlib.pyplot as plt\n",
        "#Seaborn is a Python data visualization library based on matplotlib. It provides a high-level interface for drawing attractive and informative statistical graphics\n",
        "import seaborn as sns\n",
        "# Preprocessing allows us to standarsize our data\n",
        "from sklearn import preprocessing\n",
        "# Allows us to split our data into training and testing data\n",
        "from sklearn.model_selection import train_test_split\n",
        "# Allows us to test parameters of classification algorithms and find the best one\n",
        "from sklearn.model_selection import GridSearchCV\n",
        "# Logistic Regression classification algorithm\n",
        "from sklearn.linear_model import LogisticRegression\n",
        "# Support Vector Machine classification algorithm\n",
        "from sklearn.svm import SVC\n",
        "# Decision Tree classification algorithm\n",
        "from sklearn.tree import DecisionTreeClassifier\n",
        "# K Nearest Neighbors classification algorithm\n",
        "from sklearn.neighbors import KNeighborsClassifier"
      ],
      "execution_count": 1,
      "outputs": []
    },
    {
      "cell_type": "markdown",
      "metadata": {
        "id": "vAAiwnECy_7T"
      },
      "source": [
        "This function is to plot the confusion matrix.\n"
      ]
    },
    {
      "cell_type": "code",
      "metadata": {
        "id": "0wlAuXFty_7U"
      },
      "source": [
        "def plot_confusion_matrix(y,y_predict):\n",
        "    \"this function plots the confusion matrix\"\n",
        "    from sklearn.metrics import confusion_matrix\n",
        "\n",
        "    cm = confusion_matrix(y, y_predict)\n",
        "    ax= plt.subplot()\n",
        "    sns.heatmap(cm, annot=True, ax = ax); #annot=True to annotate cells\n",
        "    ax.set_xlabel('Predicted labels')\n",
        "    ax.set_ylabel('True labels')\n",
        "    ax.set_title('Confusion Matrix'); \n",
        "    ax.xaxis.set_ticklabels(['did not land', 'land']); ax.yaxis.set_ticklabels(['did not land', 'landed'])"
      ],
      "execution_count": null,
      "outputs": []
    },
    {
      "cell_type": "markdown",
      "metadata": {
        "id": "DGEukERZy_7U"
      },
      "source": [
        "## Load the dataframe\n"
      ]
    },
    {
      "cell_type": "markdown",
      "metadata": {
        "id": "eqvZR-DOy_7V"
      },
      "source": [
        "Load the data\n"
      ]
    },
    {
      "cell_type": "code",
      "metadata": {
        "colab": {
          "base_uri": "https://localhost:8080/",
          "height": 309
        },
        "id": "zqVE7_JOy_7V",
        "outputId": "6945dbc7-bfbe-46f1-8c1f-ac22911119c6"
      },
      "source": [
        "#data = pd.read_csv(\"https://cf-courses-data.s3.us.cloud-object-storage.appdomain.cloud/IBM-DS0321EN-SkillsNetwork/datasets/dataset_part_2.csv\")\n",
        "\n",
        "# If you were unable to complete the previous lab correctly you can uncomment and load this csv\n",
        "\n",
        "data = pd.read_csv('https://cf-courses-data.s3.us.cloud-object-storage.appdomain.cloud/IBMDeveloperSkillsNetwork-DS0701EN-SkillsNetwork/api/dataset_part_2.csv')\n",
        "\n",
        "data.head()"
      ],
      "execution_count": 2,
      "outputs": [
        {
          "output_type": "execute_result",
          "data": {
            "text/html": [
              "<div>\n",
              "<style scoped>\n",
              "    .dataframe tbody tr th:only-of-type {\n",
              "        vertical-align: middle;\n",
              "    }\n",
              "\n",
              "    .dataframe tbody tr th {\n",
              "        vertical-align: top;\n",
              "    }\n",
              "\n",
              "    .dataframe thead th {\n",
              "        text-align: right;\n",
              "    }\n",
              "</style>\n",
              "<table border=\"1\" class=\"dataframe\">\n",
              "  <thead>\n",
              "    <tr style=\"text-align: right;\">\n",
              "      <th></th>\n",
              "      <th>FlightNumber</th>\n",
              "      <th>Date</th>\n",
              "      <th>BoosterVersion</th>\n",
              "      <th>PayloadMass</th>\n",
              "      <th>Orbit</th>\n",
              "      <th>LaunchSite</th>\n",
              "      <th>Outcome</th>\n",
              "      <th>Flights</th>\n",
              "      <th>GridFins</th>\n",
              "      <th>Reused</th>\n",
              "      <th>Legs</th>\n",
              "      <th>LandingPad</th>\n",
              "      <th>Block</th>\n",
              "      <th>ReusedCount</th>\n",
              "      <th>Serial</th>\n",
              "      <th>Longitude</th>\n",
              "      <th>Latitude</th>\n",
              "      <th>Class</th>\n",
              "    </tr>\n",
              "  </thead>\n",
              "  <tbody>\n",
              "    <tr>\n",
              "      <th>0</th>\n",
              "      <td>1</td>\n",
              "      <td>2010-06-04</td>\n",
              "      <td>Falcon 9</td>\n",
              "      <td>6104.959412</td>\n",
              "      <td>LEO</td>\n",
              "      <td>CCAFS SLC 40</td>\n",
              "      <td>None None</td>\n",
              "      <td>1</td>\n",
              "      <td>False</td>\n",
              "      <td>False</td>\n",
              "      <td>False</td>\n",
              "      <td>NaN</td>\n",
              "      <td>1.0</td>\n",
              "      <td>0</td>\n",
              "      <td>B0003</td>\n",
              "      <td>-80.577366</td>\n",
              "      <td>28.561857</td>\n",
              "      <td>0</td>\n",
              "    </tr>\n",
              "    <tr>\n",
              "      <th>1</th>\n",
              "      <td>2</td>\n",
              "      <td>2012-05-22</td>\n",
              "      <td>Falcon 9</td>\n",
              "      <td>525.000000</td>\n",
              "      <td>LEO</td>\n",
              "      <td>CCAFS SLC 40</td>\n",
              "      <td>None None</td>\n",
              "      <td>1</td>\n",
              "      <td>False</td>\n",
              "      <td>False</td>\n",
              "      <td>False</td>\n",
              "      <td>NaN</td>\n",
              "      <td>1.0</td>\n",
              "      <td>0</td>\n",
              "      <td>B0005</td>\n",
              "      <td>-80.577366</td>\n",
              "      <td>28.561857</td>\n",
              "      <td>0</td>\n",
              "    </tr>\n",
              "    <tr>\n",
              "      <th>2</th>\n",
              "      <td>3</td>\n",
              "      <td>2013-03-01</td>\n",
              "      <td>Falcon 9</td>\n",
              "      <td>677.000000</td>\n",
              "      <td>ISS</td>\n",
              "      <td>CCAFS SLC 40</td>\n",
              "      <td>None None</td>\n",
              "      <td>1</td>\n",
              "      <td>False</td>\n",
              "      <td>False</td>\n",
              "      <td>False</td>\n",
              "      <td>NaN</td>\n",
              "      <td>1.0</td>\n",
              "      <td>0</td>\n",
              "      <td>B0007</td>\n",
              "      <td>-80.577366</td>\n",
              "      <td>28.561857</td>\n",
              "      <td>0</td>\n",
              "    </tr>\n",
              "    <tr>\n",
              "      <th>3</th>\n",
              "      <td>4</td>\n",
              "      <td>2013-09-29</td>\n",
              "      <td>Falcon 9</td>\n",
              "      <td>500.000000</td>\n",
              "      <td>PO</td>\n",
              "      <td>VAFB SLC 4E</td>\n",
              "      <td>False Ocean</td>\n",
              "      <td>1</td>\n",
              "      <td>False</td>\n",
              "      <td>False</td>\n",
              "      <td>False</td>\n",
              "      <td>NaN</td>\n",
              "      <td>1.0</td>\n",
              "      <td>0</td>\n",
              "      <td>B1003</td>\n",
              "      <td>-120.610829</td>\n",
              "      <td>34.632093</td>\n",
              "      <td>0</td>\n",
              "    </tr>\n",
              "    <tr>\n",
              "      <th>4</th>\n",
              "      <td>5</td>\n",
              "      <td>2013-12-03</td>\n",
              "      <td>Falcon 9</td>\n",
              "      <td>3170.000000</td>\n",
              "      <td>GTO</td>\n",
              "      <td>CCAFS SLC 40</td>\n",
              "      <td>None None</td>\n",
              "      <td>1</td>\n",
              "      <td>False</td>\n",
              "      <td>False</td>\n",
              "      <td>False</td>\n",
              "      <td>NaN</td>\n",
              "      <td>1.0</td>\n",
              "      <td>0</td>\n",
              "      <td>B1004</td>\n",
              "      <td>-80.577366</td>\n",
              "      <td>28.561857</td>\n",
              "      <td>0</td>\n",
              "    </tr>\n",
              "  </tbody>\n",
              "</table>\n",
              "</div>"
            ],
            "text/plain": [
              "   FlightNumber        Date BoosterVersion  ...   Longitude   Latitude Class\n",
              "0             1  2010-06-04       Falcon 9  ...  -80.577366  28.561857     0\n",
              "1             2  2012-05-22       Falcon 9  ...  -80.577366  28.561857     0\n",
              "2             3  2013-03-01       Falcon 9  ...  -80.577366  28.561857     0\n",
              "3             4  2013-09-29       Falcon 9  ... -120.610829  34.632093     0\n",
              "4             5  2013-12-03       Falcon 9  ...  -80.577366  28.561857     0\n",
              "\n",
              "[5 rows x 18 columns]"
            ]
          },
          "metadata": {},
          "execution_count": 2
        }
      ]
    },
    {
      "cell_type": "code",
      "metadata": {
        "id": "sUR6fZixy_7V",
        "colab": {
          "base_uri": "https://localhost:8080/",
          "height": 456
        },
        "outputId": "6dfa5d36-8d3a-4e62-bffb-5288d69fcf1a"
      },
      "source": [
        "#X = pd.read_csv('https://cf-courses-data.s3.us.cloud-object-storage.appdomain.cloud/IBM-DS0321EN-SkillsNetwork/datasets/dataset_part_3.csv')\n",
        "\n",
        "# If you were unable to complete the previous lab correctly you can uncomment and load this csv\n",
        "\n",
        "X = pd.read_csv('https://cf-courses-data.s3.us.cloud-object-storage.appdomain.cloud/IBMDeveloperSkillsNetwork-DS0701EN-SkillsNetwork/api/dataset_part_3.csv')\n",
        "\n",
        "X.head(100)"
      ],
      "execution_count": 3,
      "outputs": [
        {
          "output_type": "execute_result",
          "data": {
            "text/html": [
              "<div>\n",
              "<style scoped>\n",
              "    .dataframe tbody tr th:only-of-type {\n",
              "        vertical-align: middle;\n",
              "    }\n",
              "\n",
              "    .dataframe tbody tr th {\n",
              "        vertical-align: top;\n",
              "    }\n",
              "\n",
              "    .dataframe thead th {\n",
              "        text-align: right;\n",
              "    }\n",
              "</style>\n",
              "<table border=\"1\" class=\"dataframe\">\n",
              "  <thead>\n",
              "    <tr style=\"text-align: right;\">\n",
              "      <th></th>\n",
              "      <th>FlightNumber</th>\n",
              "      <th>PayloadMass</th>\n",
              "      <th>Flights</th>\n",
              "      <th>Block</th>\n",
              "      <th>ReusedCount</th>\n",
              "      <th>Orbit_ES-L1</th>\n",
              "      <th>Orbit_GEO</th>\n",
              "      <th>Orbit_GTO</th>\n",
              "      <th>Orbit_HEO</th>\n",
              "      <th>Orbit_ISS</th>\n",
              "      <th>Orbit_LEO</th>\n",
              "      <th>Orbit_MEO</th>\n",
              "      <th>Orbit_PO</th>\n",
              "      <th>Orbit_SO</th>\n",
              "      <th>Orbit_SSO</th>\n",
              "      <th>Orbit_VLEO</th>\n",
              "      <th>LaunchSite_CCAFS SLC 40</th>\n",
              "      <th>LaunchSite_KSC LC 39A</th>\n",
              "      <th>LaunchSite_VAFB SLC 4E</th>\n",
              "      <th>LandingPad_5e9e3032383ecb267a34e7c7</th>\n",
              "      <th>LandingPad_5e9e3032383ecb554034e7c9</th>\n",
              "      <th>LandingPad_5e9e3032383ecb6bb234e7ca</th>\n",
              "      <th>LandingPad_5e9e3032383ecb761634e7cb</th>\n",
              "      <th>LandingPad_5e9e3033383ecbb9e534e7cc</th>\n",
              "      <th>Serial_B0003</th>\n",
              "      <th>Serial_B0005</th>\n",
              "      <th>Serial_B0007</th>\n",
              "      <th>Serial_B1003</th>\n",
              "      <th>Serial_B1004</th>\n",
              "      <th>Serial_B1005</th>\n",
              "      <th>Serial_B1006</th>\n",
              "      <th>Serial_B1007</th>\n",
              "      <th>Serial_B1008</th>\n",
              "      <th>Serial_B1010</th>\n",
              "      <th>Serial_B1011</th>\n",
              "      <th>Serial_B1012</th>\n",
              "      <th>Serial_B1013</th>\n",
              "      <th>Serial_B1015</th>\n",
              "      <th>Serial_B1016</th>\n",
              "      <th>Serial_B1017</th>\n",
              "      <th>...</th>\n",
              "      <th>Serial_B1021</th>\n",
              "      <th>Serial_B1022</th>\n",
              "      <th>Serial_B1023</th>\n",
              "      <th>Serial_B1025</th>\n",
              "      <th>Serial_B1026</th>\n",
              "      <th>Serial_B1028</th>\n",
              "      <th>Serial_B1029</th>\n",
              "      <th>Serial_B1030</th>\n",
              "      <th>Serial_B1031</th>\n",
              "      <th>Serial_B1032</th>\n",
              "      <th>Serial_B1034</th>\n",
              "      <th>Serial_B1035</th>\n",
              "      <th>Serial_B1036</th>\n",
              "      <th>Serial_B1037</th>\n",
              "      <th>Serial_B1038</th>\n",
              "      <th>Serial_B1039</th>\n",
              "      <th>Serial_B1040</th>\n",
              "      <th>Serial_B1041</th>\n",
              "      <th>Serial_B1042</th>\n",
              "      <th>Serial_B1043</th>\n",
              "      <th>Serial_B1044</th>\n",
              "      <th>Serial_B1045</th>\n",
              "      <th>Serial_B1046</th>\n",
              "      <th>Serial_B1047</th>\n",
              "      <th>Serial_B1048</th>\n",
              "      <th>Serial_B1049</th>\n",
              "      <th>Serial_B1050</th>\n",
              "      <th>Serial_B1051</th>\n",
              "      <th>Serial_B1054</th>\n",
              "      <th>Serial_B1056</th>\n",
              "      <th>Serial_B1058</th>\n",
              "      <th>Serial_B1059</th>\n",
              "      <th>Serial_B1060</th>\n",
              "      <th>Serial_B1062</th>\n",
              "      <th>GridFins_False</th>\n",
              "      <th>GridFins_True</th>\n",
              "      <th>Reused_False</th>\n",
              "      <th>Reused_True</th>\n",
              "      <th>Legs_False</th>\n",
              "      <th>Legs_True</th>\n",
              "    </tr>\n",
              "  </thead>\n",
              "  <tbody>\n",
              "    <tr>\n",
              "      <th>0</th>\n",
              "      <td>1.0</td>\n",
              "      <td>6104.959412</td>\n",
              "      <td>1.0</td>\n",
              "      <td>1.0</td>\n",
              "      <td>0.0</td>\n",
              "      <td>0.0</td>\n",
              "      <td>0.0</td>\n",
              "      <td>0.0</td>\n",
              "      <td>0.0</td>\n",
              "      <td>0.0</td>\n",
              "      <td>1.0</td>\n",
              "      <td>0.0</td>\n",
              "      <td>0.0</td>\n",
              "      <td>0.0</td>\n",
              "      <td>0.0</td>\n",
              "      <td>0.0</td>\n",
              "      <td>1.0</td>\n",
              "      <td>0.0</td>\n",
              "      <td>0.0</td>\n",
              "      <td>0.0</td>\n",
              "      <td>0.0</td>\n",
              "      <td>0.0</td>\n",
              "      <td>0.0</td>\n",
              "      <td>0.0</td>\n",
              "      <td>1.0</td>\n",
              "      <td>0.0</td>\n",
              "      <td>0.0</td>\n",
              "      <td>0.0</td>\n",
              "      <td>0.0</td>\n",
              "      <td>0.0</td>\n",
              "      <td>0.0</td>\n",
              "      <td>0.0</td>\n",
              "      <td>0.0</td>\n",
              "      <td>0.0</td>\n",
              "      <td>0.0</td>\n",
              "      <td>0.0</td>\n",
              "      <td>0.0</td>\n",
              "      <td>0.0</td>\n",
              "      <td>0.0</td>\n",
              "      <td>0.0</td>\n",
              "      <td>...</td>\n",
              "      <td>0.0</td>\n",
              "      <td>0.0</td>\n",
              "      <td>0.0</td>\n",
              "      <td>0.0</td>\n",
              "      <td>0.0</td>\n",
              "      <td>0.0</td>\n",
              "      <td>0.0</td>\n",
              "      <td>0.0</td>\n",
              "      <td>0.0</td>\n",
              "      <td>0.0</td>\n",
              "      <td>0.0</td>\n",
              "      <td>0.0</td>\n",
              "      <td>0.0</td>\n",
              "      <td>0.0</td>\n",
              "      <td>0.0</td>\n",
              "      <td>0.0</td>\n",
              "      <td>0.0</td>\n",
              "      <td>0.0</td>\n",
              "      <td>0.0</td>\n",
              "      <td>0.0</td>\n",
              "      <td>0.0</td>\n",
              "      <td>0.0</td>\n",
              "      <td>0.0</td>\n",
              "      <td>0.0</td>\n",
              "      <td>0.0</td>\n",
              "      <td>0.0</td>\n",
              "      <td>0.0</td>\n",
              "      <td>0.0</td>\n",
              "      <td>0.0</td>\n",
              "      <td>0.0</td>\n",
              "      <td>0.0</td>\n",
              "      <td>0.0</td>\n",
              "      <td>0.0</td>\n",
              "      <td>0.0</td>\n",
              "      <td>1.0</td>\n",
              "      <td>0.0</td>\n",
              "      <td>1.0</td>\n",
              "      <td>0.0</td>\n",
              "      <td>1.0</td>\n",
              "      <td>0.0</td>\n",
              "    </tr>\n",
              "    <tr>\n",
              "      <th>1</th>\n",
              "      <td>2.0</td>\n",
              "      <td>525.000000</td>\n",
              "      <td>1.0</td>\n",
              "      <td>1.0</td>\n",
              "      <td>0.0</td>\n",
              "      <td>0.0</td>\n",
              "      <td>0.0</td>\n",
              "      <td>0.0</td>\n",
              "      <td>0.0</td>\n",
              "      <td>0.0</td>\n",
              "      <td>1.0</td>\n",
              "      <td>0.0</td>\n",
              "      <td>0.0</td>\n",
              "      <td>0.0</td>\n",
              "      <td>0.0</td>\n",
              "      <td>0.0</td>\n",
              "      <td>1.0</td>\n",
              "      <td>0.0</td>\n",
              "      <td>0.0</td>\n",
              "      <td>0.0</td>\n",
              "      <td>0.0</td>\n",
              "      <td>0.0</td>\n",
              "      <td>0.0</td>\n",
              "      <td>0.0</td>\n",
              "      <td>0.0</td>\n",
              "      <td>1.0</td>\n",
              "      <td>0.0</td>\n",
              "      <td>0.0</td>\n",
              "      <td>0.0</td>\n",
              "      <td>0.0</td>\n",
              "      <td>0.0</td>\n",
              "      <td>0.0</td>\n",
              "      <td>0.0</td>\n",
              "      <td>0.0</td>\n",
              "      <td>0.0</td>\n",
              "      <td>0.0</td>\n",
              "      <td>0.0</td>\n",
              "      <td>0.0</td>\n",
              "      <td>0.0</td>\n",
              "      <td>0.0</td>\n",
              "      <td>...</td>\n",
              "      <td>0.0</td>\n",
              "      <td>0.0</td>\n",
              "      <td>0.0</td>\n",
              "      <td>0.0</td>\n",
              "      <td>0.0</td>\n",
              "      <td>0.0</td>\n",
              "      <td>0.0</td>\n",
              "      <td>0.0</td>\n",
              "      <td>0.0</td>\n",
              "      <td>0.0</td>\n",
              "      <td>0.0</td>\n",
              "      <td>0.0</td>\n",
              "      <td>0.0</td>\n",
              "      <td>0.0</td>\n",
              "      <td>0.0</td>\n",
              "      <td>0.0</td>\n",
              "      <td>0.0</td>\n",
              "      <td>0.0</td>\n",
              "      <td>0.0</td>\n",
              "      <td>0.0</td>\n",
              "      <td>0.0</td>\n",
              "      <td>0.0</td>\n",
              "      <td>0.0</td>\n",
              "      <td>0.0</td>\n",
              "      <td>0.0</td>\n",
              "      <td>0.0</td>\n",
              "      <td>0.0</td>\n",
              "      <td>0.0</td>\n",
              "      <td>0.0</td>\n",
              "      <td>0.0</td>\n",
              "      <td>0.0</td>\n",
              "      <td>0.0</td>\n",
              "      <td>0.0</td>\n",
              "      <td>0.0</td>\n",
              "      <td>1.0</td>\n",
              "      <td>0.0</td>\n",
              "      <td>1.0</td>\n",
              "      <td>0.0</td>\n",
              "      <td>1.0</td>\n",
              "      <td>0.0</td>\n",
              "    </tr>\n",
              "    <tr>\n",
              "      <th>2</th>\n",
              "      <td>3.0</td>\n",
              "      <td>677.000000</td>\n",
              "      <td>1.0</td>\n",
              "      <td>1.0</td>\n",
              "      <td>0.0</td>\n",
              "      <td>0.0</td>\n",
              "      <td>0.0</td>\n",
              "      <td>0.0</td>\n",
              "      <td>0.0</td>\n",
              "      <td>1.0</td>\n",
              "      <td>0.0</td>\n",
              "      <td>0.0</td>\n",
              "      <td>0.0</td>\n",
              "      <td>0.0</td>\n",
              "      <td>0.0</td>\n",
              "      <td>0.0</td>\n",
              "      <td>1.0</td>\n",
              "      <td>0.0</td>\n",
              "      <td>0.0</td>\n",
              "      <td>0.0</td>\n",
              "      <td>0.0</td>\n",
              "      <td>0.0</td>\n",
              "      <td>0.0</td>\n",
              "      <td>0.0</td>\n",
              "      <td>0.0</td>\n",
              "      <td>0.0</td>\n",
              "      <td>1.0</td>\n",
              "      <td>0.0</td>\n",
              "      <td>0.0</td>\n",
              "      <td>0.0</td>\n",
              "      <td>0.0</td>\n",
              "      <td>0.0</td>\n",
              "      <td>0.0</td>\n",
              "      <td>0.0</td>\n",
              "      <td>0.0</td>\n",
              "      <td>0.0</td>\n",
              "      <td>0.0</td>\n",
              "      <td>0.0</td>\n",
              "      <td>0.0</td>\n",
              "      <td>0.0</td>\n",
              "      <td>...</td>\n",
              "      <td>0.0</td>\n",
              "      <td>0.0</td>\n",
              "      <td>0.0</td>\n",
              "      <td>0.0</td>\n",
              "      <td>0.0</td>\n",
              "      <td>0.0</td>\n",
              "      <td>0.0</td>\n",
              "      <td>0.0</td>\n",
              "      <td>0.0</td>\n",
              "      <td>0.0</td>\n",
              "      <td>0.0</td>\n",
              "      <td>0.0</td>\n",
              "      <td>0.0</td>\n",
              "      <td>0.0</td>\n",
              "      <td>0.0</td>\n",
              "      <td>0.0</td>\n",
              "      <td>0.0</td>\n",
              "      <td>0.0</td>\n",
              "      <td>0.0</td>\n",
              "      <td>0.0</td>\n",
              "      <td>0.0</td>\n",
              "      <td>0.0</td>\n",
              "      <td>0.0</td>\n",
              "      <td>0.0</td>\n",
              "      <td>0.0</td>\n",
              "      <td>0.0</td>\n",
              "      <td>0.0</td>\n",
              "      <td>0.0</td>\n",
              "      <td>0.0</td>\n",
              "      <td>0.0</td>\n",
              "      <td>0.0</td>\n",
              "      <td>0.0</td>\n",
              "      <td>0.0</td>\n",
              "      <td>0.0</td>\n",
              "      <td>1.0</td>\n",
              "      <td>0.0</td>\n",
              "      <td>1.0</td>\n",
              "      <td>0.0</td>\n",
              "      <td>1.0</td>\n",
              "      <td>0.0</td>\n",
              "    </tr>\n",
              "    <tr>\n",
              "      <th>3</th>\n",
              "      <td>4.0</td>\n",
              "      <td>500.000000</td>\n",
              "      <td>1.0</td>\n",
              "      <td>1.0</td>\n",
              "      <td>0.0</td>\n",
              "      <td>0.0</td>\n",
              "      <td>0.0</td>\n",
              "      <td>0.0</td>\n",
              "      <td>0.0</td>\n",
              "      <td>0.0</td>\n",
              "      <td>0.0</td>\n",
              "      <td>0.0</td>\n",
              "      <td>1.0</td>\n",
              "      <td>0.0</td>\n",
              "      <td>0.0</td>\n",
              "      <td>0.0</td>\n",
              "      <td>0.0</td>\n",
              "      <td>0.0</td>\n",
              "      <td>1.0</td>\n",
              "      <td>0.0</td>\n",
              "      <td>0.0</td>\n",
              "      <td>0.0</td>\n",
              "      <td>0.0</td>\n",
              "      <td>0.0</td>\n",
              "      <td>0.0</td>\n",
              "      <td>0.0</td>\n",
              "      <td>0.0</td>\n",
              "      <td>1.0</td>\n",
              "      <td>0.0</td>\n",
              "      <td>0.0</td>\n",
              "      <td>0.0</td>\n",
              "      <td>0.0</td>\n",
              "      <td>0.0</td>\n",
              "      <td>0.0</td>\n",
              "      <td>0.0</td>\n",
              "      <td>0.0</td>\n",
              "      <td>0.0</td>\n",
              "      <td>0.0</td>\n",
              "      <td>0.0</td>\n",
              "      <td>0.0</td>\n",
              "      <td>...</td>\n",
              "      <td>0.0</td>\n",
              "      <td>0.0</td>\n",
              "      <td>0.0</td>\n",
              "      <td>0.0</td>\n",
              "      <td>0.0</td>\n",
              "      <td>0.0</td>\n",
              "      <td>0.0</td>\n",
              "      <td>0.0</td>\n",
              "      <td>0.0</td>\n",
              "      <td>0.0</td>\n",
              "      <td>0.0</td>\n",
              "      <td>0.0</td>\n",
              "      <td>0.0</td>\n",
              "      <td>0.0</td>\n",
              "      <td>0.0</td>\n",
              "      <td>0.0</td>\n",
              "      <td>0.0</td>\n",
              "      <td>0.0</td>\n",
              "      <td>0.0</td>\n",
              "      <td>0.0</td>\n",
              "      <td>0.0</td>\n",
              "      <td>0.0</td>\n",
              "      <td>0.0</td>\n",
              "      <td>0.0</td>\n",
              "      <td>0.0</td>\n",
              "      <td>0.0</td>\n",
              "      <td>0.0</td>\n",
              "      <td>0.0</td>\n",
              "      <td>0.0</td>\n",
              "      <td>0.0</td>\n",
              "      <td>0.0</td>\n",
              "      <td>0.0</td>\n",
              "      <td>0.0</td>\n",
              "      <td>0.0</td>\n",
              "      <td>1.0</td>\n",
              "      <td>0.0</td>\n",
              "      <td>1.0</td>\n",
              "      <td>0.0</td>\n",
              "      <td>1.0</td>\n",
              "      <td>0.0</td>\n",
              "    </tr>\n",
              "    <tr>\n",
              "      <th>4</th>\n",
              "      <td>5.0</td>\n",
              "      <td>3170.000000</td>\n",
              "      <td>1.0</td>\n",
              "      <td>1.0</td>\n",
              "      <td>0.0</td>\n",
              "      <td>0.0</td>\n",
              "      <td>0.0</td>\n",
              "      <td>1.0</td>\n",
              "      <td>0.0</td>\n",
              "      <td>0.0</td>\n",
              "      <td>0.0</td>\n",
              "      <td>0.0</td>\n",
              "      <td>0.0</td>\n",
              "      <td>0.0</td>\n",
              "      <td>0.0</td>\n",
              "      <td>0.0</td>\n",
              "      <td>1.0</td>\n",
              "      <td>0.0</td>\n",
              "      <td>0.0</td>\n",
              "      <td>0.0</td>\n",
              "      <td>0.0</td>\n",
              "      <td>0.0</td>\n",
              "      <td>0.0</td>\n",
              "      <td>0.0</td>\n",
              "      <td>0.0</td>\n",
              "      <td>0.0</td>\n",
              "      <td>0.0</td>\n",
              "      <td>0.0</td>\n",
              "      <td>1.0</td>\n",
              "      <td>0.0</td>\n",
              "      <td>0.0</td>\n",
              "      <td>0.0</td>\n",
              "      <td>0.0</td>\n",
              "      <td>0.0</td>\n",
              "      <td>0.0</td>\n",
              "      <td>0.0</td>\n",
              "      <td>0.0</td>\n",
              "      <td>0.0</td>\n",
              "      <td>0.0</td>\n",
              "      <td>0.0</td>\n",
              "      <td>...</td>\n",
              "      <td>0.0</td>\n",
              "      <td>0.0</td>\n",
              "      <td>0.0</td>\n",
              "      <td>0.0</td>\n",
              "      <td>0.0</td>\n",
              "      <td>0.0</td>\n",
              "      <td>0.0</td>\n",
              "      <td>0.0</td>\n",
              "      <td>0.0</td>\n",
              "      <td>0.0</td>\n",
              "      <td>0.0</td>\n",
              "      <td>0.0</td>\n",
              "      <td>0.0</td>\n",
              "      <td>0.0</td>\n",
              "      <td>0.0</td>\n",
              "      <td>0.0</td>\n",
              "      <td>0.0</td>\n",
              "      <td>0.0</td>\n",
              "      <td>0.0</td>\n",
              "      <td>0.0</td>\n",
              "      <td>0.0</td>\n",
              "      <td>0.0</td>\n",
              "      <td>0.0</td>\n",
              "      <td>0.0</td>\n",
              "      <td>0.0</td>\n",
              "      <td>0.0</td>\n",
              "      <td>0.0</td>\n",
              "      <td>0.0</td>\n",
              "      <td>0.0</td>\n",
              "      <td>0.0</td>\n",
              "      <td>0.0</td>\n",
              "      <td>0.0</td>\n",
              "      <td>0.0</td>\n",
              "      <td>0.0</td>\n",
              "      <td>1.0</td>\n",
              "      <td>0.0</td>\n",
              "      <td>1.0</td>\n",
              "      <td>0.0</td>\n",
              "      <td>1.0</td>\n",
              "      <td>0.0</td>\n",
              "    </tr>\n",
              "    <tr>\n",
              "      <th>...</th>\n",
              "      <td>...</td>\n",
              "      <td>...</td>\n",
              "      <td>...</td>\n",
              "      <td>...</td>\n",
              "      <td>...</td>\n",
              "      <td>...</td>\n",
              "      <td>...</td>\n",
              "      <td>...</td>\n",
              "      <td>...</td>\n",
              "      <td>...</td>\n",
              "      <td>...</td>\n",
              "      <td>...</td>\n",
              "      <td>...</td>\n",
              "      <td>...</td>\n",
              "      <td>...</td>\n",
              "      <td>...</td>\n",
              "      <td>...</td>\n",
              "      <td>...</td>\n",
              "      <td>...</td>\n",
              "      <td>...</td>\n",
              "      <td>...</td>\n",
              "      <td>...</td>\n",
              "      <td>...</td>\n",
              "      <td>...</td>\n",
              "      <td>...</td>\n",
              "      <td>...</td>\n",
              "      <td>...</td>\n",
              "      <td>...</td>\n",
              "      <td>...</td>\n",
              "      <td>...</td>\n",
              "      <td>...</td>\n",
              "      <td>...</td>\n",
              "      <td>...</td>\n",
              "      <td>...</td>\n",
              "      <td>...</td>\n",
              "      <td>...</td>\n",
              "      <td>...</td>\n",
              "      <td>...</td>\n",
              "      <td>...</td>\n",
              "      <td>...</td>\n",
              "      <td>...</td>\n",
              "      <td>...</td>\n",
              "      <td>...</td>\n",
              "      <td>...</td>\n",
              "      <td>...</td>\n",
              "      <td>...</td>\n",
              "      <td>...</td>\n",
              "      <td>...</td>\n",
              "      <td>...</td>\n",
              "      <td>...</td>\n",
              "      <td>...</td>\n",
              "      <td>...</td>\n",
              "      <td>...</td>\n",
              "      <td>...</td>\n",
              "      <td>...</td>\n",
              "      <td>...</td>\n",
              "      <td>...</td>\n",
              "      <td>...</td>\n",
              "      <td>...</td>\n",
              "      <td>...</td>\n",
              "      <td>...</td>\n",
              "      <td>...</td>\n",
              "      <td>...</td>\n",
              "      <td>...</td>\n",
              "      <td>...</td>\n",
              "      <td>...</td>\n",
              "      <td>...</td>\n",
              "      <td>...</td>\n",
              "      <td>...</td>\n",
              "      <td>...</td>\n",
              "      <td>...</td>\n",
              "      <td>...</td>\n",
              "      <td>...</td>\n",
              "      <td>...</td>\n",
              "      <td>...</td>\n",
              "      <td>...</td>\n",
              "      <td>...</td>\n",
              "      <td>...</td>\n",
              "      <td>...</td>\n",
              "      <td>...</td>\n",
              "      <td>...</td>\n",
              "    </tr>\n",
              "    <tr>\n",
              "      <th>85</th>\n",
              "      <td>86.0</td>\n",
              "      <td>15400.000000</td>\n",
              "      <td>2.0</td>\n",
              "      <td>5.0</td>\n",
              "      <td>2.0</td>\n",
              "      <td>0.0</td>\n",
              "      <td>0.0</td>\n",
              "      <td>0.0</td>\n",
              "      <td>0.0</td>\n",
              "      <td>0.0</td>\n",
              "      <td>0.0</td>\n",
              "      <td>0.0</td>\n",
              "      <td>0.0</td>\n",
              "      <td>0.0</td>\n",
              "      <td>0.0</td>\n",
              "      <td>1.0</td>\n",
              "      <td>0.0</td>\n",
              "      <td>1.0</td>\n",
              "      <td>0.0</td>\n",
              "      <td>0.0</td>\n",
              "      <td>0.0</td>\n",
              "      <td>1.0</td>\n",
              "      <td>0.0</td>\n",
              "      <td>0.0</td>\n",
              "      <td>0.0</td>\n",
              "      <td>0.0</td>\n",
              "      <td>0.0</td>\n",
              "      <td>0.0</td>\n",
              "      <td>0.0</td>\n",
              "      <td>0.0</td>\n",
              "      <td>0.0</td>\n",
              "      <td>0.0</td>\n",
              "      <td>0.0</td>\n",
              "      <td>0.0</td>\n",
              "      <td>0.0</td>\n",
              "      <td>0.0</td>\n",
              "      <td>0.0</td>\n",
              "      <td>0.0</td>\n",
              "      <td>0.0</td>\n",
              "      <td>0.0</td>\n",
              "      <td>...</td>\n",
              "      <td>0.0</td>\n",
              "      <td>0.0</td>\n",
              "      <td>0.0</td>\n",
              "      <td>0.0</td>\n",
              "      <td>0.0</td>\n",
              "      <td>0.0</td>\n",
              "      <td>0.0</td>\n",
              "      <td>0.0</td>\n",
              "      <td>0.0</td>\n",
              "      <td>0.0</td>\n",
              "      <td>0.0</td>\n",
              "      <td>0.0</td>\n",
              "      <td>0.0</td>\n",
              "      <td>0.0</td>\n",
              "      <td>0.0</td>\n",
              "      <td>0.0</td>\n",
              "      <td>0.0</td>\n",
              "      <td>0.0</td>\n",
              "      <td>0.0</td>\n",
              "      <td>0.0</td>\n",
              "      <td>0.0</td>\n",
              "      <td>0.0</td>\n",
              "      <td>0.0</td>\n",
              "      <td>0.0</td>\n",
              "      <td>0.0</td>\n",
              "      <td>0.0</td>\n",
              "      <td>0.0</td>\n",
              "      <td>0.0</td>\n",
              "      <td>0.0</td>\n",
              "      <td>0.0</td>\n",
              "      <td>0.0</td>\n",
              "      <td>0.0</td>\n",
              "      <td>1.0</td>\n",
              "      <td>0.0</td>\n",
              "      <td>0.0</td>\n",
              "      <td>1.0</td>\n",
              "      <td>0.0</td>\n",
              "      <td>1.0</td>\n",
              "      <td>0.0</td>\n",
              "      <td>1.0</td>\n",
              "    </tr>\n",
              "    <tr>\n",
              "      <th>86</th>\n",
              "      <td>87.0</td>\n",
              "      <td>15400.000000</td>\n",
              "      <td>3.0</td>\n",
              "      <td>5.0</td>\n",
              "      <td>2.0</td>\n",
              "      <td>0.0</td>\n",
              "      <td>0.0</td>\n",
              "      <td>0.0</td>\n",
              "      <td>0.0</td>\n",
              "      <td>0.0</td>\n",
              "      <td>0.0</td>\n",
              "      <td>0.0</td>\n",
              "      <td>0.0</td>\n",
              "      <td>0.0</td>\n",
              "      <td>0.0</td>\n",
              "      <td>1.0</td>\n",
              "      <td>0.0</td>\n",
              "      <td>1.0</td>\n",
              "      <td>0.0</td>\n",
              "      <td>0.0</td>\n",
              "      <td>0.0</td>\n",
              "      <td>1.0</td>\n",
              "      <td>0.0</td>\n",
              "      <td>0.0</td>\n",
              "      <td>0.0</td>\n",
              "      <td>0.0</td>\n",
              "      <td>0.0</td>\n",
              "      <td>0.0</td>\n",
              "      <td>0.0</td>\n",
              "      <td>0.0</td>\n",
              "      <td>0.0</td>\n",
              "      <td>0.0</td>\n",
              "      <td>0.0</td>\n",
              "      <td>0.0</td>\n",
              "      <td>0.0</td>\n",
              "      <td>0.0</td>\n",
              "      <td>0.0</td>\n",
              "      <td>0.0</td>\n",
              "      <td>0.0</td>\n",
              "      <td>0.0</td>\n",
              "      <td>...</td>\n",
              "      <td>0.0</td>\n",
              "      <td>0.0</td>\n",
              "      <td>0.0</td>\n",
              "      <td>0.0</td>\n",
              "      <td>0.0</td>\n",
              "      <td>0.0</td>\n",
              "      <td>0.0</td>\n",
              "      <td>0.0</td>\n",
              "      <td>0.0</td>\n",
              "      <td>0.0</td>\n",
              "      <td>0.0</td>\n",
              "      <td>0.0</td>\n",
              "      <td>0.0</td>\n",
              "      <td>0.0</td>\n",
              "      <td>0.0</td>\n",
              "      <td>0.0</td>\n",
              "      <td>0.0</td>\n",
              "      <td>0.0</td>\n",
              "      <td>0.0</td>\n",
              "      <td>0.0</td>\n",
              "      <td>0.0</td>\n",
              "      <td>0.0</td>\n",
              "      <td>0.0</td>\n",
              "      <td>0.0</td>\n",
              "      <td>0.0</td>\n",
              "      <td>0.0</td>\n",
              "      <td>0.0</td>\n",
              "      <td>0.0</td>\n",
              "      <td>0.0</td>\n",
              "      <td>0.0</td>\n",
              "      <td>1.0</td>\n",
              "      <td>0.0</td>\n",
              "      <td>0.0</td>\n",
              "      <td>0.0</td>\n",
              "      <td>0.0</td>\n",
              "      <td>1.0</td>\n",
              "      <td>0.0</td>\n",
              "      <td>1.0</td>\n",
              "      <td>0.0</td>\n",
              "      <td>1.0</td>\n",
              "    </tr>\n",
              "    <tr>\n",
              "      <th>87</th>\n",
              "      <td>88.0</td>\n",
              "      <td>15400.000000</td>\n",
              "      <td>6.0</td>\n",
              "      <td>5.0</td>\n",
              "      <td>5.0</td>\n",
              "      <td>0.0</td>\n",
              "      <td>0.0</td>\n",
              "      <td>0.0</td>\n",
              "      <td>0.0</td>\n",
              "      <td>0.0</td>\n",
              "      <td>0.0</td>\n",
              "      <td>0.0</td>\n",
              "      <td>0.0</td>\n",
              "      <td>0.0</td>\n",
              "      <td>0.0</td>\n",
              "      <td>1.0</td>\n",
              "      <td>0.0</td>\n",
              "      <td>1.0</td>\n",
              "      <td>0.0</td>\n",
              "      <td>0.0</td>\n",
              "      <td>0.0</td>\n",
              "      <td>1.0</td>\n",
              "      <td>0.0</td>\n",
              "      <td>0.0</td>\n",
              "      <td>0.0</td>\n",
              "      <td>0.0</td>\n",
              "      <td>0.0</td>\n",
              "      <td>0.0</td>\n",
              "      <td>0.0</td>\n",
              "      <td>0.0</td>\n",
              "      <td>0.0</td>\n",
              "      <td>0.0</td>\n",
              "      <td>0.0</td>\n",
              "      <td>0.0</td>\n",
              "      <td>0.0</td>\n",
              "      <td>0.0</td>\n",
              "      <td>0.0</td>\n",
              "      <td>0.0</td>\n",
              "      <td>0.0</td>\n",
              "      <td>0.0</td>\n",
              "      <td>...</td>\n",
              "      <td>0.0</td>\n",
              "      <td>0.0</td>\n",
              "      <td>0.0</td>\n",
              "      <td>0.0</td>\n",
              "      <td>0.0</td>\n",
              "      <td>0.0</td>\n",
              "      <td>0.0</td>\n",
              "      <td>0.0</td>\n",
              "      <td>0.0</td>\n",
              "      <td>0.0</td>\n",
              "      <td>0.0</td>\n",
              "      <td>0.0</td>\n",
              "      <td>0.0</td>\n",
              "      <td>0.0</td>\n",
              "      <td>0.0</td>\n",
              "      <td>0.0</td>\n",
              "      <td>0.0</td>\n",
              "      <td>0.0</td>\n",
              "      <td>0.0</td>\n",
              "      <td>0.0</td>\n",
              "      <td>0.0</td>\n",
              "      <td>0.0</td>\n",
              "      <td>0.0</td>\n",
              "      <td>0.0</td>\n",
              "      <td>0.0</td>\n",
              "      <td>0.0</td>\n",
              "      <td>0.0</td>\n",
              "      <td>1.0</td>\n",
              "      <td>0.0</td>\n",
              "      <td>0.0</td>\n",
              "      <td>0.0</td>\n",
              "      <td>0.0</td>\n",
              "      <td>0.0</td>\n",
              "      <td>0.0</td>\n",
              "      <td>0.0</td>\n",
              "      <td>1.0</td>\n",
              "      <td>0.0</td>\n",
              "      <td>1.0</td>\n",
              "      <td>0.0</td>\n",
              "      <td>1.0</td>\n",
              "    </tr>\n",
              "    <tr>\n",
              "      <th>88</th>\n",
              "      <td>89.0</td>\n",
              "      <td>15400.000000</td>\n",
              "      <td>3.0</td>\n",
              "      <td>5.0</td>\n",
              "      <td>2.0</td>\n",
              "      <td>0.0</td>\n",
              "      <td>0.0</td>\n",
              "      <td>0.0</td>\n",
              "      <td>0.0</td>\n",
              "      <td>0.0</td>\n",
              "      <td>0.0</td>\n",
              "      <td>0.0</td>\n",
              "      <td>0.0</td>\n",
              "      <td>0.0</td>\n",
              "      <td>0.0</td>\n",
              "      <td>1.0</td>\n",
              "      <td>1.0</td>\n",
              "      <td>0.0</td>\n",
              "      <td>0.0</td>\n",
              "      <td>0.0</td>\n",
              "      <td>0.0</td>\n",
              "      <td>0.0</td>\n",
              "      <td>0.0</td>\n",
              "      <td>1.0</td>\n",
              "      <td>0.0</td>\n",
              "      <td>0.0</td>\n",
              "      <td>0.0</td>\n",
              "      <td>0.0</td>\n",
              "      <td>0.0</td>\n",
              "      <td>0.0</td>\n",
              "      <td>0.0</td>\n",
              "      <td>0.0</td>\n",
              "      <td>0.0</td>\n",
              "      <td>0.0</td>\n",
              "      <td>0.0</td>\n",
              "      <td>0.0</td>\n",
              "      <td>0.0</td>\n",
              "      <td>0.0</td>\n",
              "      <td>0.0</td>\n",
              "      <td>0.0</td>\n",
              "      <td>...</td>\n",
              "      <td>0.0</td>\n",
              "      <td>0.0</td>\n",
              "      <td>0.0</td>\n",
              "      <td>0.0</td>\n",
              "      <td>0.0</td>\n",
              "      <td>0.0</td>\n",
              "      <td>0.0</td>\n",
              "      <td>0.0</td>\n",
              "      <td>0.0</td>\n",
              "      <td>0.0</td>\n",
              "      <td>0.0</td>\n",
              "      <td>0.0</td>\n",
              "      <td>0.0</td>\n",
              "      <td>0.0</td>\n",
              "      <td>0.0</td>\n",
              "      <td>0.0</td>\n",
              "      <td>0.0</td>\n",
              "      <td>0.0</td>\n",
              "      <td>0.0</td>\n",
              "      <td>0.0</td>\n",
              "      <td>0.0</td>\n",
              "      <td>0.0</td>\n",
              "      <td>0.0</td>\n",
              "      <td>0.0</td>\n",
              "      <td>0.0</td>\n",
              "      <td>0.0</td>\n",
              "      <td>0.0</td>\n",
              "      <td>0.0</td>\n",
              "      <td>0.0</td>\n",
              "      <td>0.0</td>\n",
              "      <td>0.0</td>\n",
              "      <td>0.0</td>\n",
              "      <td>1.0</td>\n",
              "      <td>0.0</td>\n",
              "      <td>0.0</td>\n",
              "      <td>1.0</td>\n",
              "      <td>0.0</td>\n",
              "      <td>1.0</td>\n",
              "      <td>0.0</td>\n",
              "      <td>1.0</td>\n",
              "    </tr>\n",
              "    <tr>\n",
              "      <th>89</th>\n",
              "      <td>90.0</td>\n",
              "      <td>3681.000000</td>\n",
              "      <td>1.0</td>\n",
              "      <td>5.0</td>\n",
              "      <td>0.0</td>\n",
              "      <td>0.0</td>\n",
              "      <td>0.0</td>\n",
              "      <td>0.0</td>\n",
              "      <td>0.0</td>\n",
              "      <td>0.0</td>\n",
              "      <td>0.0</td>\n",
              "      <td>1.0</td>\n",
              "      <td>0.0</td>\n",
              "      <td>0.0</td>\n",
              "      <td>0.0</td>\n",
              "      <td>0.0</td>\n",
              "      <td>1.0</td>\n",
              "      <td>0.0</td>\n",
              "      <td>0.0</td>\n",
              "      <td>0.0</td>\n",
              "      <td>0.0</td>\n",
              "      <td>1.0</td>\n",
              "      <td>0.0</td>\n",
              "      <td>0.0</td>\n",
              "      <td>0.0</td>\n",
              "      <td>0.0</td>\n",
              "      <td>0.0</td>\n",
              "      <td>0.0</td>\n",
              "      <td>0.0</td>\n",
              "      <td>0.0</td>\n",
              "      <td>0.0</td>\n",
              "      <td>0.0</td>\n",
              "      <td>0.0</td>\n",
              "      <td>0.0</td>\n",
              "      <td>0.0</td>\n",
              "      <td>0.0</td>\n",
              "      <td>0.0</td>\n",
              "      <td>0.0</td>\n",
              "      <td>0.0</td>\n",
              "      <td>0.0</td>\n",
              "      <td>...</td>\n",
              "      <td>0.0</td>\n",
              "      <td>0.0</td>\n",
              "      <td>0.0</td>\n",
              "      <td>0.0</td>\n",
              "      <td>0.0</td>\n",
              "      <td>0.0</td>\n",
              "      <td>0.0</td>\n",
              "      <td>0.0</td>\n",
              "      <td>0.0</td>\n",
              "      <td>0.0</td>\n",
              "      <td>0.0</td>\n",
              "      <td>0.0</td>\n",
              "      <td>0.0</td>\n",
              "      <td>0.0</td>\n",
              "      <td>0.0</td>\n",
              "      <td>0.0</td>\n",
              "      <td>0.0</td>\n",
              "      <td>0.0</td>\n",
              "      <td>0.0</td>\n",
              "      <td>0.0</td>\n",
              "      <td>0.0</td>\n",
              "      <td>0.0</td>\n",
              "      <td>0.0</td>\n",
              "      <td>0.0</td>\n",
              "      <td>0.0</td>\n",
              "      <td>0.0</td>\n",
              "      <td>0.0</td>\n",
              "      <td>0.0</td>\n",
              "      <td>0.0</td>\n",
              "      <td>0.0</td>\n",
              "      <td>0.0</td>\n",
              "      <td>0.0</td>\n",
              "      <td>0.0</td>\n",
              "      <td>1.0</td>\n",
              "      <td>0.0</td>\n",
              "      <td>1.0</td>\n",
              "      <td>1.0</td>\n",
              "      <td>0.0</td>\n",
              "      <td>0.0</td>\n",
              "      <td>1.0</td>\n",
              "    </tr>\n",
              "  </tbody>\n",
              "</table>\n",
              "<p>90 rows × 83 columns</p>\n",
              "</div>"
            ],
            "text/plain": [
              "    FlightNumber   PayloadMass  Flights  ...  Reused_True  Legs_False  Legs_True\n",
              "0            1.0   6104.959412      1.0  ...          0.0         1.0        0.0\n",
              "1            2.0    525.000000      1.0  ...          0.0         1.0        0.0\n",
              "2            3.0    677.000000      1.0  ...          0.0         1.0        0.0\n",
              "3            4.0    500.000000      1.0  ...          0.0         1.0        0.0\n",
              "4            5.0   3170.000000      1.0  ...          0.0         1.0        0.0\n",
              "..           ...           ...      ...  ...          ...         ...        ...\n",
              "85          86.0  15400.000000      2.0  ...          1.0         0.0        1.0\n",
              "86          87.0  15400.000000      3.0  ...          1.0         0.0        1.0\n",
              "87          88.0  15400.000000      6.0  ...          1.0         0.0        1.0\n",
              "88          89.0  15400.000000      3.0  ...          1.0         0.0        1.0\n",
              "89          90.0   3681.000000      1.0  ...          0.0         0.0        1.0\n",
              "\n",
              "[90 rows x 83 columns]"
            ]
          },
          "metadata": {},
          "execution_count": 3
        }
      ]
    },
    {
      "cell_type": "markdown",
      "metadata": {
        "id": "Rl62ADUHy_7V"
      },
      "source": [
        "## TASK  1\n"
      ]
    },
    {
      "cell_type": "markdown",
      "metadata": {
        "id": "w66OQgXRy_7W"
      },
      "source": [
        "Create a NumPy array from the column <code>Class</code> in <code>data</code>, by applying the method <code>to_numpy()</code>  then\n",
        "assign it  to the variable <code>Y</code>,make sure the output is a  Pandas series (only one bracket df\\['name of  column']).\n"
      ]
    },
    {
      "cell_type": "code",
      "metadata": {
        "id": "iyUA0X-9y_7W"
      },
      "source": [
        "Y=data['Class'].to_numpy()\n"
      ],
      "execution_count": 5,
      "outputs": []
    },
    {
      "cell_type": "markdown",
      "metadata": {
        "id": "3aCv0T_8y_7W"
      },
      "source": [
        "## TASK  2\n"
      ]
    },
    {
      "cell_type": "markdown",
      "metadata": {
        "id": "T_qcM-tay_7W"
      },
      "source": [
        "Standardize the data in <code>X</code> then reassign it to the variable  <code>X</code> using the transform provided below.\n"
      ]
    },
    {
      "cell_type": "code",
      "metadata": {
        "id": "sJm68Cdjy_7X"
      },
      "source": [
        "X.dropna(axis=0, thresh=1, inplace=True)\n",
        "X.reset_index(inplace=True)\n",
        "\n",
        "# students get this \n",
        "transform = preprocessing.StandardScaler()\n",
        "\n",
        "X = transform.fit_transform(X, y=None)"
      ],
      "execution_count": 6,
      "outputs": []
    },
    {
      "cell_type": "code",
      "metadata": {
        "colab": {
          "base_uri": "https://localhost:8080/",
          "height": 439
        },
        "id": "NH9q6iycy_7X",
        "outputId": "ef413566-c909-413c-e3d0-57e15f88de96"
      },
      "source": [
        "X = pd.DataFrame(X)\n",
        "\n",
        "X"
      ],
      "execution_count": null,
      "outputs": [
        {
          "output_type": "execute_result",
          "data": {
            "text/html": [
              "<div>\n",
              "<style scoped>\n",
              "    .dataframe tbody tr th:only-of-type {\n",
              "        vertical-align: middle;\n",
              "    }\n",
              "\n",
              "    .dataframe tbody tr th {\n",
              "        vertical-align: top;\n",
              "    }\n",
              "\n",
              "    .dataframe thead th {\n",
              "        text-align: right;\n",
              "    }\n",
              "</style>\n",
              "<table border=\"1\" class=\"dataframe\">\n",
              "  <thead>\n",
              "    <tr style=\"text-align: right;\">\n",
              "      <th></th>\n",
              "      <th>0</th>\n",
              "      <th>1</th>\n",
              "      <th>2</th>\n",
              "      <th>3</th>\n",
              "      <th>4</th>\n",
              "      <th>5</th>\n",
              "      <th>6</th>\n",
              "      <th>7</th>\n",
              "      <th>8</th>\n",
              "      <th>9</th>\n",
              "      <th>10</th>\n",
              "      <th>11</th>\n",
              "      <th>12</th>\n",
              "      <th>13</th>\n",
              "      <th>14</th>\n",
              "      <th>15</th>\n",
              "      <th>16</th>\n",
              "      <th>17</th>\n",
              "      <th>18</th>\n",
              "      <th>19</th>\n",
              "      <th>20</th>\n",
              "      <th>21</th>\n",
              "      <th>22</th>\n",
              "      <th>23</th>\n",
              "      <th>24</th>\n",
              "      <th>25</th>\n",
              "      <th>26</th>\n",
              "      <th>27</th>\n",
              "      <th>28</th>\n",
              "      <th>29</th>\n",
              "      <th>30</th>\n",
              "      <th>31</th>\n",
              "      <th>32</th>\n",
              "      <th>33</th>\n",
              "      <th>34</th>\n",
              "      <th>35</th>\n",
              "      <th>36</th>\n",
              "      <th>37</th>\n",
              "      <th>38</th>\n",
              "      <th>39</th>\n",
              "      <th>...</th>\n",
              "      <th>45</th>\n",
              "      <th>46</th>\n",
              "      <th>47</th>\n",
              "      <th>48</th>\n",
              "      <th>49</th>\n",
              "      <th>50</th>\n",
              "      <th>51</th>\n",
              "      <th>52</th>\n",
              "      <th>53</th>\n",
              "      <th>54</th>\n",
              "      <th>55</th>\n",
              "      <th>56</th>\n",
              "      <th>57</th>\n",
              "      <th>58</th>\n",
              "      <th>59</th>\n",
              "      <th>60</th>\n",
              "      <th>61</th>\n",
              "      <th>62</th>\n",
              "      <th>63</th>\n",
              "      <th>64</th>\n",
              "      <th>65</th>\n",
              "      <th>66</th>\n",
              "      <th>67</th>\n",
              "      <th>68</th>\n",
              "      <th>69</th>\n",
              "      <th>70</th>\n",
              "      <th>71</th>\n",
              "      <th>72</th>\n",
              "      <th>73</th>\n",
              "      <th>74</th>\n",
              "      <th>75</th>\n",
              "      <th>76</th>\n",
              "      <th>77</th>\n",
              "      <th>78</th>\n",
              "      <th>79</th>\n",
              "      <th>80</th>\n",
              "      <th>81</th>\n",
              "      <th>82</th>\n",
              "      <th>83</th>\n",
              "      <th>84</th>\n",
              "    </tr>\n",
              "  </thead>\n",
              "  <tbody>\n",
              "    <tr>\n",
              "      <th>0</th>\n",
              "      <td>-1.712912</td>\n",
              "      <td>-1.712912</td>\n",
              "      <td>-1.712912</td>\n",
              "      <td>-1.948145e-16</td>\n",
              "      <td>-0.653913</td>\n",
              "      <td>-1.575895</td>\n",
              "      <td>-0.973440</td>\n",
              "      <td>-0.106</td>\n",
              "      <td>-0.106</td>\n",
              "      <td>-0.654654</td>\n",
              "      <td>-0.106</td>\n",
              "      <td>-0.551677</td>\n",
              "      <td>3.443420</td>\n",
              "      <td>-0.185695</td>\n",
              "      <td>-0.333333</td>\n",
              "      <td>-0.106</td>\n",
              "      <td>-0.242536</td>\n",
              "      <td>-0.429198</td>\n",
              "      <td>0.797724</td>\n",
              "      <td>-0.568796</td>\n",
              "      <td>-0.410891</td>\n",
              "      <td>-0.410891</td>\n",
              "      <td>-0.150756</td>\n",
              "      <td>-0.797724</td>\n",
              "      <td>-0.150756</td>\n",
              "      <td>-0.392232</td>\n",
              "      <td>9.433981</td>\n",
              "      <td>-0.106000</td>\n",
              "      <td>-0.106000</td>\n",
              "      <td>-0.106000</td>\n",
              "      <td>-0.106000</td>\n",
              "      <td>-0.106</td>\n",
              "      <td>-0.106</td>\n",
              "      <td>-0.106</td>\n",
              "      <td>-0.106</td>\n",
              "      <td>-0.106</td>\n",
              "      <td>-0.106</td>\n",
              "      <td>-0.106</td>\n",
              "      <td>-0.106</td>\n",
              "      <td>-0.106</td>\n",
              "      <td>...</td>\n",
              "      <td>-0.150756</td>\n",
              "      <td>-0.106</td>\n",
              "      <td>-0.106</td>\n",
              "      <td>-0.106</td>\n",
              "      <td>-0.106</td>\n",
              "      <td>-0.106</td>\n",
              "      <td>-0.150756</td>\n",
              "      <td>-0.106</td>\n",
              "      <td>-0.150756</td>\n",
              "      <td>-0.150756</td>\n",
              "      <td>-0.106</td>\n",
              "      <td>-0.150756</td>\n",
              "      <td>-0.150756</td>\n",
              "      <td>-0.106</td>\n",
              "      <td>-0.106</td>\n",
              "      <td>-0.150756</td>\n",
              "      <td>-0.150756</td>\n",
              "      <td>-0.150756</td>\n",
              "      <td>-0.106</td>\n",
              "      <td>-0.106</td>\n",
              "      <td>-0.106</td>\n",
              "      <td>-0.150756</td>\n",
              "      <td>-0.215666</td>\n",
              "      <td>-0.185695</td>\n",
              "      <td>-0.215666</td>\n",
              "      <td>-0.267261</td>\n",
              "      <td>-0.106</td>\n",
              "      <td>-0.242536</td>\n",
              "      <td>-0.106</td>\n",
              "      <td>-0.215666</td>\n",
              "      <td>-0.185695</td>\n",
              "      <td>-0.215666</td>\n",
              "      <td>-0.185695</td>\n",
              "      <td>-0.106000</td>\n",
              "      <td>1.870829</td>\n",
              "      <td>-1.870829</td>\n",
              "      <td>0.835532</td>\n",
              "      <td>-0.835532</td>\n",
              "      <td>1.933091</td>\n",
              "      <td>-1.933091</td>\n",
              "    </tr>\n",
              "    <tr>\n",
              "      <th>1</th>\n",
              "      <td>-1.674419</td>\n",
              "      <td>-1.674419</td>\n",
              "      <td>-1.674419</td>\n",
              "      <td>-1.195232e+00</td>\n",
              "      <td>-0.653913</td>\n",
              "      <td>-1.575895</td>\n",
              "      <td>-0.973440</td>\n",
              "      <td>-0.106</td>\n",
              "      <td>-0.106</td>\n",
              "      <td>-0.654654</td>\n",
              "      <td>-0.106</td>\n",
              "      <td>-0.551677</td>\n",
              "      <td>3.443420</td>\n",
              "      <td>-0.185695</td>\n",
              "      <td>-0.333333</td>\n",
              "      <td>-0.106</td>\n",
              "      <td>-0.242536</td>\n",
              "      <td>-0.429198</td>\n",
              "      <td>0.797724</td>\n",
              "      <td>-0.568796</td>\n",
              "      <td>-0.410891</td>\n",
              "      <td>-0.410891</td>\n",
              "      <td>-0.150756</td>\n",
              "      <td>-0.797724</td>\n",
              "      <td>-0.150756</td>\n",
              "      <td>-0.392232</td>\n",
              "      <td>-0.106000</td>\n",
              "      <td>9.433981</td>\n",
              "      <td>-0.106000</td>\n",
              "      <td>-0.106000</td>\n",
              "      <td>-0.106000</td>\n",
              "      <td>-0.106</td>\n",
              "      <td>-0.106</td>\n",
              "      <td>-0.106</td>\n",
              "      <td>-0.106</td>\n",
              "      <td>-0.106</td>\n",
              "      <td>-0.106</td>\n",
              "      <td>-0.106</td>\n",
              "      <td>-0.106</td>\n",
              "      <td>-0.106</td>\n",
              "      <td>...</td>\n",
              "      <td>-0.150756</td>\n",
              "      <td>-0.106</td>\n",
              "      <td>-0.106</td>\n",
              "      <td>-0.106</td>\n",
              "      <td>-0.106</td>\n",
              "      <td>-0.106</td>\n",
              "      <td>-0.150756</td>\n",
              "      <td>-0.106</td>\n",
              "      <td>-0.150756</td>\n",
              "      <td>-0.150756</td>\n",
              "      <td>-0.106</td>\n",
              "      <td>-0.150756</td>\n",
              "      <td>-0.150756</td>\n",
              "      <td>-0.106</td>\n",
              "      <td>-0.106</td>\n",
              "      <td>-0.150756</td>\n",
              "      <td>-0.150756</td>\n",
              "      <td>-0.150756</td>\n",
              "      <td>-0.106</td>\n",
              "      <td>-0.106</td>\n",
              "      <td>-0.106</td>\n",
              "      <td>-0.150756</td>\n",
              "      <td>-0.215666</td>\n",
              "      <td>-0.185695</td>\n",
              "      <td>-0.215666</td>\n",
              "      <td>-0.267261</td>\n",
              "      <td>-0.106</td>\n",
              "      <td>-0.242536</td>\n",
              "      <td>-0.106</td>\n",
              "      <td>-0.215666</td>\n",
              "      <td>-0.185695</td>\n",
              "      <td>-0.215666</td>\n",
              "      <td>-0.185695</td>\n",
              "      <td>-0.106000</td>\n",
              "      <td>1.870829</td>\n",
              "      <td>-1.870829</td>\n",
              "      <td>0.835532</td>\n",
              "      <td>-0.835532</td>\n",
              "      <td>1.933091</td>\n",
              "      <td>-1.933091</td>\n",
              "    </tr>\n",
              "    <tr>\n",
              "      <th>2</th>\n",
              "      <td>-1.635927</td>\n",
              "      <td>-1.635927</td>\n",
              "      <td>-1.635927</td>\n",
              "      <td>-1.162673e+00</td>\n",
              "      <td>-0.653913</td>\n",
              "      <td>-1.575895</td>\n",
              "      <td>-0.973440</td>\n",
              "      <td>-0.106</td>\n",
              "      <td>-0.106</td>\n",
              "      <td>-0.654654</td>\n",
              "      <td>-0.106</td>\n",
              "      <td>1.812654</td>\n",
              "      <td>-0.290409</td>\n",
              "      <td>-0.185695</td>\n",
              "      <td>-0.333333</td>\n",
              "      <td>-0.106</td>\n",
              "      <td>-0.242536</td>\n",
              "      <td>-0.429198</td>\n",
              "      <td>0.797724</td>\n",
              "      <td>-0.568796</td>\n",
              "      <td>-0.410891</td>\n",
              "      <td>-0.410891</td>\n",
              "      <td>-0.150756</td>\n",
              "      <td>-0.797724</td>\n",
              "      <td>-0.150756</td>\n",
              "      <td>-0.392232</td>\n",
              "      <td>-0.106000</td>\n",
              "      <td>-0.106000</td>\n",
              "      <td>9.433981</td>\n",
              "      <td>-0.106000</td>\n",
              "      <td>-0.106000</td>\n",
              "      <td>-0.106</td>\n",
              "      <td>-0.106</td>\n",
              "      <td>-0.106</td>\n",
              "      <td>-0.106</td>\n",
              "      <td>-0.106</td>\n",
              "      <td>-0.106</td>\n",
              "      <td>-0.106</td>\n",
              "      <td>-0.106</td>\n",
              "      <td>-0.106</td>\n",
              "      <td>...</td>\n",
              "      <td>-0.150756</td>\n",
              "      <td>-0.106</td>\n",
              "      <td>-0.106</td>\n",
              "      <td>-0.106</td>\n",
              "      <td>-0.106</td>\n",
              "      <td>-0.106</td>\n",
              "      <td>-0.150756</td>\n",
              "      <td>-0.106</td>\n",
              "      <td>-0.150756</td>\n",
              "      <td>-0.150756</td>\n",
              "      <td>-0.106</td>\n",
              "      <td>-0.150756</td>\n",
              "      <td>-0.150756</td>\n",
              "      <td>-0.106</td>\n",
              "      <td>-0.106</td>\n",
              "      <td>-0.150756</td>\n",
              "      <td>-0.150756</td>\n",
              "      <td>-0.150756</td>\n",
              "      <td>-0.106</td>\n",
              "      <td>-0.106</td>\n",
              "      <td>-0.106</td>\n",
              "      <td>-0.150756</td>\n",
              "      <td>-0.215666</td>\n",
              "      <td>-0.185695</td>\n",
              "      <td>-0.215666</td>\n",
              "      <td>-0.267261</td>\n",
              "      <td>-0.106</td>\n",
              "      <td>-0.242536</td>\n",
              "      <td>-0.106</td>\n",
              "      <td>-0.215666</td>\n",
              "      <td>-0.185695</td>\n",
              "      <td>-0.215666</td>\n",
              "      <td>-0.185695</td>\n",
              "      <td>-0.106000</td>\n",
              "      <td>1.870829</td>\n",
              "      <td>-1.870829</td>\n",
              "      <td>0.835532</td>\n",
              "      <td>-0.835532</td>\n",
              "      <td>1.933091</td>\n",
              "      <td>-1.933091</td>\n",
              "    </tr>\n",
              "    <tr>\n",
              "      <th>3</th>\n",
              "      <td>-1.597434</td>\n",
              "      <td>-1.597434</td>\n",
              "      <td>-1.597434</td>\n",
              "      <td>-1.200587e+00</td>\n",
              "      <td>-0.653913</td>\n",
              "      <td>-1.575895</td>\n",
              "      <td>-0.973440</td>\n",
              "      <td>-0.106</td>\n",
              "      <td>-0.106</td>\n",
              "      <td>-0.654654</td>\n",
              "      <td>-0.106</td>\n",
              "      <td>-0.551677</td>\n",
              "      <td>-0.290409</td>\n",
              "      <td>-0.185695</td>\n",
              "      <td>3.000000</td>\n",
              "      <td>-0.106</td>\n",
              "      <td>-0.242536</td>\n",
              "      <td>-0.429198</td>\n",
              "      <td>-1.253566</td>\n",
              "      <td>-0.568796</td>\n",
              "      <td>2.433737</td>\n",
              "      <td>-0.410891</td>\n",
              "      <td>-0.150756</td>\n",
              "      <td>-0.797724</td>\n",
              "      <td>-0.150756</td>\n",
              "      <td>-0.392232</td>\n",
              "      <td>-0.106000</td>\n",
              "      <td>-0.106000</td>\n",
              "      <td>-0.106000</td>\n",
              "      <td>9.433981</td>\n",
              "      <td>-0.106000</td>\n",
              "      <td>-0.106</td>\n",
              "      <td>-0.106</td>\n",
              "      <td>-0.106</td>\n",
              "      <td>-0.106</td>\n",
              "      <td>-0.106</td>\n",
              "      <td>-0.106</td>\n",
              "      <td>-0.106</td>\n",
              "      <td>-0.106</td>\n",
              "      <td>-0.106</td>\n",
              "      <td>...</td>\n",
              "      <td>-0.150756</td>\n",
              "      <td>-0.106</td>\n",
              "      <td>-0.106</td>\n",
              "      <td>-0.106</td>\n",
              "      <td>-0.106</td>\n",
              "      <td>-0.106</td>\n",
              "      <td>-0.150756</td>\n",
              "      <td>-0.106</td>\n",
              "      <td>-0.150756</td>\n",
              "      <td>-0.150756</td>\n",
              "      <td>-0.106</td>\n",
              "      <td>-0.150756</td>\n",
              "      <td>-0.150756</td>\n",
              "      <td>-0.106</td>\n",
              "      <td>-0.106</td>\n",
              "      <td>-0.150756</td>\n",
              "      <td>-0.150756</td>\n",
              "      <td>-0.150756</td>\n",
              "      <td>-0.106</td>\n",
              "      <td>-0.106</td>\n",
              "      <td>-0.106</td>\n",
              "      <td>-0.150756</td>\n",
              "      <td>-0.215666</td>\n",
              "      <td>-0.185695</td>\n",
              "      <td>-0.215666</td>\n",
              "      <td>-0.267261</td>\n",
              "      <td>-0.106</td>\n",
              "      <td>-0.242536</td>\n",
              "      <td>-0.106</td>\n",
              "      <td>-0.215666</td>\n",
              "      <td>-0.185695</td>\n",
              "      <td>-0.215666</td>\n",
              "      <td>-0.185695</td>\n",
              "      <td>-0.106000</td>\n",
              "      <td>1.870829</td>\n",
              "      <td>-1.870829</td>\n",
              "      <td>0.835532</td>\n",
              "      <td>-0.835532</td>\n",
              "      <td>1.933091</td>\n",
              "      <td>-1.933091</td>\n",
              "    </tr>\n",
              "    <tr>\n",
              "      <th>4</th>\n",
              "      <td>-1.558942</td>\n",
              "      <td>-1.558942</td>\n",
              "      <td>-1.558942</td>\n",
              "      <td>-6.286706e-01</td>\n",
              "      <td>-0.653913</td>\n",
              "      <td>-1.575895</td>\n",
              "      <td>-0.973440</td>\n",
              "      <td>-0.106</td>\n",
              "      <td>-0.106</td>\n",
              "      <td>1.527525</td>\n",
              "      <td>-0.106</td>\n",
              "      <td>-0.551677</td>\n",
              "      <td>-0.290409</td>\n",
              "      <td>-0.185695</td>\n",
              "      <td>-0.333333</td>\n",
              "      <td>-0.106</td>\n",
              "      <td>-0.242536</td>\n",
              "      <td>-0.429198</td>\n",
              "      <td>0.797724</td>\n",
              "      <td>-0.568796</td>\n",
              "      <td>-0.410891</td>\n",
              "      <td>-0.410891</td>\n",
              "      <td>-0.150756</td>\n",
              "      <td>-0.797724</td>\n",
              "      <td>-0.150756</td>\n",
              "      <td>-0.392232</td>\n",
              "      <td>-0.106000</td>\n",
              "      <td>-0.106000</td>\n",
              "      <td>-0.106000</td>\n",
              "      <td>-0.106000</td>\n",
              "      <td>9.433981</td>\n",
              "      <td>-0.106</td>\n",
              "      <td>-0.106</td>\n",
              "      <td>-0.106</td>\n",
              "      <td>-0.106</td>\n",
              "      <td>-0.106</td>\n",
              "      <td>-0.106</td>\n",
              "      <td>-0.106</td>\n",
              "      <td>-0.106</td>\n",
              "      <td>-0.106</td>\n",
              "      <td>...</td>\n",
              "      <td>-0.150756</td>\n",
              "      <td>-0.106</td>\n",
              "      <td>-0.106</td>\n",
              "      <td>-0.106</td>\n",
              "      <td>-0.106</td>\n",
              "      <td>-0.106</td>\n",
              "      <td>-0.150756</td>\n",
              "      <td>-0.106</td>\n",
              "      <td>-0.150756</td>\n",
              "      <td>-0.150756</td>\n",
              "      <td>-0.106</td>\n",
              "      <td>-0.150756</td>\n",
              "      <td>-0.150756</td>\n",
              "      <td>-0.106</td>\n",
              "      <td>-0.106</td>\n",
              "      <td>-0.150756</td>\n",
              "      <td>-0.150756</td>\n",
              "      <td>-0.150756</td>\n",
              "      <td>-0.106</td>\n",
              "      <td>-0.106</td>\n",
              "      <td>-0.106</td>\n",
              "      <td>-0.150756</td>\n",
              "      <td>-0.215666</td>\n",
              "      <td>-0.185695</td>\n",
              "      <td>-0.215666</td>\n",
              "      <td>-0.267261</td>\n",
              "      <td>-0.106</td>\n",
              "      <td>-0.242536</td>\n",
              "      <td>-0.106</td>\n",
              "      <td>-0.215666</td>\n",
              "      <td>-0.185695</td>\n",
              "      <td>-0.215666</td>\n",
              "      <td>-0.185695</td>\n",
              "      <td>-0.106000</td>\n",
              "      <td>1.870829</td>\n",
              "      <td>-1.870829</td>\n",
              "      <td>0.835532</td>\n",
              "      <td>-0.835532</td>\n",
              "      <td>1.933091</td>\n",
              "      <td>-1.933091</td>\n",
              "    </tr>\n",
              "    <tr>\n",
              "      <th>...</th>\n",
              "      <td>...</td>\n",
              "      <td>...</td>\n",
              "      <td>...</td>\n",
              "      <td>...</td>\n",
              "      <td>...</td>\n",
              "      <td>...</td>\n",
              "      <td>...</td>\n",
              "      <td>...</td>\n",
              "      <td>...</td>\n",
              "      <td>...</td>\n",
              "      <td>...</td>\n",
              "      <td>...</td>\n",
              "      <td>...</td>\n",
              "      <td>...</td>\n",
              "      <td>...</td>\n",
              "      <td>...</td>\n",
              "      <td>...</td>\n",
              "      <td>...</td>\n",
              "      <td>...</td>\n",
              "      <td>...</td>\n",
              "      <td>...</td>\n",
              "      <td>...</td>\n",
              "      <td>...</td>\n",
              "      <td>...</td>\n",
              "      <td>...</td>\n",
              "      <td>...</td>\n",
              "      <td>...</td>\n",
              "      <td>...</td>\n",
              "      <td>...</td>\n",
              "      <td>...</td>\n",
              "      <td>...</td>\n",
              "      <td>...</td>\n",
              "      <td>...</td>\n",
              "      <td>...</td>\n",
              "      <td>...</td>\n",
              "      <td>...</td>\n",
              "      <td>...</td>\n",
              "      <td>...</td>\n",
              "      <td>...</td>\n",
              "      <td>...</td>\n",
              "      <td>...</td>\n",
              "      <td>...</td>\n",
              "      <td>...</td>\n",
              "      <td>...</td>\n",
              "      <td>...</td>\n",
              "      <td>...</td>\n",
              "      <td>...</td>\n",
              "      <td>...</td>\n",
              "      <td>...</td>\n",
              "      <td>...</td>\n",
              "      <td>...</td>\n",
              "      <td>...</td>\n",
              "      <td>...</td>\n",
              "      <td>...</td>\n",
              "      <td>...</td>\n",
              "      <td>...</td>\n",
              "      <td>...</td>\n",
              "      <td>...</td>\n",
              "      <td>...</td>\n",
              "      <td>...</td>\n",
              "      <td>...</td>\n",
              "      <td>...</td>\n",
              "      <td>...</td>\n",
              "      <td>...</td>\n",
              "      <td>...</td>\n",
              "      <td>...</td>\n",
              "      <td>...</td>\n",
              "      <td>...</td>\n",
              "      <td>...</td>\n",
              "      <td>...</td>\n",
              "      <td>...</td>\n",
              "      <td>...</td>\n",
              "      <td>...</td>\n",
              "      <td>...</td>\n",
              "      <td>...</td>\n",
              "      <td>...</td>\n",
              "      <td>...</td>\n",
              "      <td>...</td>\n",
              "      <td>...</td>\n",
              "      <td>...</td>\n",
              "      <td>...</td>\n",
              "    </tr>\n",
              "    <tr>\n",
              "      <th>85</th>\n",
              "      <td>1.558942</td>\n",
              "      <td>1.558942</td>\n",
              "      <td>1.558942</td>\n",
              "      <td>1.991005e+00</td>\n",
              "      <td>0.174991</td>\n",
              "      <td>0.945537</td>\n",
              "      <td>0.202528</td>\n",
              "      <td>-0.106</td>\n",
              "      <td>-0.106</td>\n",
              "      <td>-0.654654</td>\n",
              "      <td>-0.106</td>\n",
              "      <td>-0.551677</td>\n",
              "      <td>-0.290409</td>\n",
              "      <td>-0.185695</td>\n",
              "      <td>-0.333333</td>\n",
              "      <td>-0.106</td>\n",
              "      <td>-0.242536</td>\n",
              "      <td>2.329929</td>\n",
              "      <td>-1.253566</td>\n",
              "      <td>1.758098</td>\n",
              "      <td>-0.410891</td>\n",
              "      <td>-0.410891</td>\n",
              "      <td>-0.150756</td>\n",
              "      <td>1.253566</td>\n",
              "      <td>-0.150756</td>\n",
              "      <td>-0.392232</td>\n",
              "      <td>-0.106000</td>\n",
              "      <td>-0.106000</td>\n",
              "      <td>-0.106000</td>\n",
              "      <td>-0.106000</td>\n",
              "      <td>-0.106000</td>\n",
              "      <td>-0.106</td>\n",
              "      <td>-0.106</td>\n",
              "      <td>-0.106</td>\n",
              "      <td>-0.106</td>\n",
              "      <td>-0.106</td>\n",
              "      <td>-0.106</td>\n",
              "      <td>-0.106</td>\n",
              "      <td>-0.106</td>\n",
              "      <td>-0.106</td>\n",
              "      <td>...</td>\n",
              "      <td>-0.150756</td>\n",
              "      <td>-0.106</td>\n",
              "      <td>-0.106</td>\n",
              "      <td>-0.106</td>\n",
              "      <td>-0.106</td>\n",
              "      <td>-0.106</td>\n",
              "      <td>-0.150756</td>\n",
              "      <td>-0.106</td>\n",
              "      <td>-0.150756</td>\n",
              "      <td>-0.150756</td>\n",
              "      <td>-0.106</td>\n",
              "      <td>-0.150756</td>\n",
              "      <td>-0.150756</td>\n",
              "      <td>-0.106</td>\n",
              "      <td>-0.106</td>\n",
              "      <td>-0.150756</td>\n",
              "      <td>-0.150756</td>\n",
              "      <td>-0.150756</td>\n",
              "      <td>-0.106</td>\n",
              "      <td>-0.106</td>\n",
              "      <td>-0.106</td>\n",
              "      <td>-0.150756</td>\n",
              "      <td>-0.215666</td>\n",
              "      <td>-0.185695</td>\n",
              "      <td>-0.215666</td>\n",
              "      <td>-0.267261</td>\n",
              "      <td>-0.106</td>\n",
              "      <td>-0.242536</td>\n",
              "      <td>-0.106</td>\n",
              "      <td>-0.215666</td>\n",
              "      <td>-0.185695</td>\n",
              "      <td>-0.215666</td>\n",
              "      <td>5.385165</td>\n",
              "      <td>-0.106000</td>\n",
              "      <td>-0.534522</td>\n",
              "      <td>0.534522</td>\n",
              "      <td>-1.196843</td>\n",
              "      <td>1.196843</td>\n",
              "      <td>-0.517306</td>\n",
              "      <td>0.517306</td>\n",
              "    </tr>\n",
              "    <tr>\n",
              "      <th>86</th>\n",
              "      <td>1.597434</td>\n",
              "      <td>1.597434</td>\n",
              "      <td>1.597434</td>\n",
              "      <td>1.991005e+00</td>\n",
              "      <td>1.003894</td>\n",
              "      <td>0.945537</td>\n",
              "      <td>0.202528</td>\n",
              "      <td>-0.106</td>\n",
              "      <td>-0.106</td>\n",
              "      <td>-0.654654</td>\n",
              "      <td>-0.106</td>\n",
              "      <td>-0.551677</td>\n",
              "      <td>-0.290409</td>\n",
              "      <td>-0.185695</td>\n",
              "      <td>-0.333333</td>\n",
              "      <td>-0.106</td>\n",
              "      <td>-0.242536</td>\n",
              "      <td>2.329929</td>\n",
              "      <td>-1.253566</td>\n",
              "      <td>1.758098</td>\n",
              "      <td>-0.410891</td>\n",
              "      <td>-0.410891</td>\n",
              "      <td>-0.150756</td>\n",
              "      <td>1.253566</td>\n",
              "      <td>-0.150756</td>\n",
              "      <td>-0.392232</td>\n",
              "      <td>-0.106000</td>\n",
              "      <td>-0.106000</td>\n",
              "      <td>-0.106000</td>\n",
              "      <td>-0.106000</td>\n",
              "      <td>-0.106000</td>\n",
              "      <td>-0.106</td>\n",
              "      <td>-0.106</td>\n",
              "      <td>-0.106</td>\n",
              "      <td>-0.106</td>\n",
              "      <td>-0.106</td>\n",
              "      <td>-0.106</td>\n",
              "      <td>-0.106</td>\n",
              "      <td>-0.106</td>\n",
              "      <td>-0.106</td>\n",
              "      <td>...</td>\n",
              "      <td>-0.150756</td>\n",
              "      <td>-0.106</td>\n",
              "      <td>-0.106</td>\n",
              "      <td>-0.106</td>\n",
              "      <td>-0.106</td>\n",
              "      <td>-0.106</td>\n",
              "      <td>-0.150756</td>\n",
              "      <td>-0.106</td>\n",
              "      <td>-0.150756</td>\n",
              "      <td>-0.150756</td>\n",
              "      <td>-0.106</td>\n",
              "      <td>-0.150756</td>\n",
              "      <td>-0.150756</td>\n",
              "      <td>-0.106</td>\n",
              "      <td>-0.106</td>\n",
              "      <td>-0.150756</td>\n",
              "      <td>-0.150756</td>\n",
              "      <td>-0.150756</td>\n",
              "      <td>-0.106</td>\n",
              "      <td>-0.106</td>\n",
              "      <td>-0.106</td>\n",
              "      <td>-0.150756</td>\n",
              "      <td>-0.215666</td>\n",
              "      <td>-0.185695</td>\n",
              "      <td>-0.215666</td>\n",
              "      <td>-0.267261</td>\n",
              "      <td>-0.106</td>\n",
              "      <td>-0.242536</td>\n",
              "      <td>-0.106</td>\n",
              "      <td>-0.215666</td>\n",
              "      <td>5.385165</td>\n",
              "      <td>-0.215666</td>\n",
              "      <td>-0.185695</td>\n",
              "      <td>-0.106000</td>\n",
              "      <td>-0.534522</td>\n",
              "      <td>0.534522</td>\n",
              "      <td>-1.196843</td>\n",
              "      <td>1.196843</td>\n",
              "      <td>-0.517306</td>\n",
              "      <td>0.517306</td>\n",
              "    </tr>\n",
              "    <tr>\n",
              "      <th>87</th>\n",
              "      <td>1.635927</td>\n",
              "      <td>1.635927</td>\n",
              "      <td>1.635927</td>\n",
              "      <td>1.991005e+00</td>\n",
              "      <td>3.490605</td>\n",
              "      <td>0.945537</td>\n",
              "      <td>1.966480</td>\n",
              "      <td>-0.106</td>\n",
              "      <td>-0.106</td>\n",
              "      <td>-0.654654</td>\n",
              "      <td>-0.106</td>\n",
              "      <td>-0.551677</td>\n",
              "      <td>-0.290409</td>\n",
              "      <td>-0.185695</td>\n",
              "      <td>-0.333333</td>\n",
              "      <td>-0.106</td>\n",
              "      <td>-0.242536</td>\n",
              "      <td>2.329929</td>\n",
              "      <td>-1.253566</td>\n",
              "      <td>1.758098</td>\n",
              "      <td>-0.410891</td>\n",
              "      <td>-0.410891</td>\n",
              "      <td>-0.150756</td>\n",
              "      <td>1.253566</td>\n",
              "      <td>-0.150756</td>\n",
              "      <td>-0.392232</td>\n",
              "      <td>-0.106000</td>\n",
              "      <td>-0.106000</td>\n",
              "      <td>-0.106000</td>\n",
              "      <td>-0.106000</td>\n",
              "      <td>-0.106000</td>\n",
              "      <td>-0.106</td>\n",
              "      <td>-0.106</td>\n",
              "      <td>-0.106</td>\n",
              "      <td>-0.106</td>\n",
              "      <td>-0.106</td>\n",
              "      <td>-0.106</td>\n",
              "      <td>-0.106</td>\n",
              "      <td>-0.106</td>\n",
              "      <td>-0.106</td>\n",
              "      <td>...</td>\n",
              "      <td>-0.150756</td>\n",
              "      <td>-0.106</td>\n",
              "      <td>-0.106</td>\n",
              "      <td>-0.106</td>\n",
              "      <td>-0.106</td>\n",
              "      <td>-0.106</td>\n",
              "      <td>-0.150756</td>\n",
              "      <td>-0.106</td>\n",
              "      <td>-0.150756</td>\n",
              "      <td>-0.150756</td>\n",
              "      <td>-0.106</td>\n",
              "      <td>-0.150756</td>\n",
              "      <td>-0.150756</td>\n",
              "      <td>-0.106</td>\n",
              "      <td>-0.106</td>\n",
              "      <td>-0.150756</td>\n",
              "      <td>-0.150756</td>\n",
              "      <td>-0.150756</td>\n",
              "      <td>-0.106</td>\n",
              "      <td>-0.106</td>\n",
              "      <td>-0.106</td>\n",
              "      <td>-0.150756</td>\n",
              "      <td>-0.215666</td>\n",
              "      <td>-0.185695</td>\n",
              "      <td>-0.215666</td>\n",
              "      <td>-0.267261</td>\n",
              "      <td>-0.106</td>\n",
              "      <td>4.123106</td>\n",
              "      <td>-0.106</td>\n",
              "      <td>-0.215666</td>\n",
              "      <td>-0.185695</td>\n",
              "      <td>-0.215666</td>\n",
              "      <td>-0.185695</td>\n",
              "      <td>-0.106000</td>\n",
              "      <td>-0.534522</td>\n",
              "      <td>0.534522</td>\n",
              "      <td>-1.196843</td>\n",
              "      <td>1.196843</td>\n",
              "      <td>-0.517306</td>\n",
              "      <td>0.517306</td>\n",
              "    </tr>\n",
              "    <tr>\n",
              "      <th>88</th>\n",
              "      <td>1.674419</td>\n",
              "      <td>1.674419</td>\n",
              "      <td>1.674419</td>\n",
              "      <td>1.991005e+00</td>\n",
              "      <td>1.003894</td>\n",
              "      <td>0.945537</td>\n",
              "      <td>0.202528</td>\n",
              "      <td>-0.106</td>\n",
              "      <td>-0.106</td>\n",
              "      <td>-0.654654</td>\n",
              "      <td>-0.106</td>\n",
              "      <td>-0.551677</td>\n",
              "      <td>-0.290409</td>\n",
              "      <td>-0.185695</td>\n",
              "      <td>-0.333333</td>\n",
              "      <td>-0.106</td>\n",
              "      <td>-0.242536</td>\n",
              "      <td>2.329929</td>\n",
              "      <td>0.797724</td>\n",
              "      <td>-0.568796</td>\n",
              "      <td>-0.410891</td>\n",
              "      <td>-0.410891</td>\n",
              "      <td>-0.150756</td>\n",
              "      <td>-0.797724</td>\n",
              "      <td>-0.150756</td>\n",
              "      <td>2.549510</td>\n",
              "      <td>-0.106000</td>\n",
              "      <td>-0.106000</td>\n",
              "      <td>-0.106000</td>\n",
              "      <td>-0.106000</td>\n",
              "      <td>-0.106000</td>\n",
              "      <td>-0.106</td>\n",
              "      <td>-0.106</td>\n",
              "      <td>-0.106</td>\n",
              "      <td>-0.106</td>\n",
              "      <td>-0.106</td>\n",
              "      <td>-0.106</td>\n",
              "      <td>-0.106</td>\n",
              "      <td>-0.106</td>\n",
              "      <td>-0.106</td>\n",
              "      <td>...</td>\n",
              "      <td>-0.150756</td>\n",
              "      <td>-0.106</td>\n",
              "      <td>-0.106</td>\n",
              "      <td>-0.106</td>\n",
              "      <td>-0.106</td>\n",
              "      <td>-0.106</td>\n",
              "      <td>-0.150756</td>\n",
              "      <td>-0.106</td>\n",
              "      <td>-0.150756</td>\n",
              "      <td>-0.150756</td>\n",
              "      <td>-0.106</td>\n",
              "      <td>-0.150756</td>\n",
              "      <td>-0.150756</td>\n",
              "      <td>-0.106</td>\n",
              "      <td>-0.106</td>\n",
              "      <td>-0.150756</td>\n",
              "      <td>-0.150756</td>\n",
              "      <td>-0.150756</td>\n",
              "      <td>-0.106</td>\n",
              "      <td>-0.106</td>\n",
              "      <td>-0.106</td>\n",
              "      <td>-0.150756</td>\n",
              "      <td>-0.215666</td>\n",
              "      <td>-0.185695</td>\n",
              "      <td>-0.215666</td>\n",
              "      <td>-0.267261</td>\n",
              "      <td>-0.106</td>\n",
              "      <td>-0.242536</td>\n",
              "      <td>-0.106</td>\n",
              "      <td>-0.215666</td>\n",
              "      <td>-0.185695</td>\n",
              "      <td>-0.215666</td>\n",
              "      <td>5.385165</td>\n",
              "      <td>-0.106000</td>\n",
              "      <td>-0.534522</td>\n",
              "      <td>0.534522</td>\n",
              "      <td>-1.196843</td>\n",
              "      <td>1.196843</td>\n",
              "      <td>-0.517306</td>\n",
              "      <td>0.517306</td>\n",
              "    </tr>\n",
              "    <tr>\n",
              "      <th>89</th>\n",
              "      <td>1.712912</td>\n",
              "      <td>1.712912</td>\n",
              "      <td>1.712912</td>\n",
              "      <td>-5.192140e-01</td>\n",
              "      <td>-0.653913</td>\n",
              "      <td>0.945537</td>\n",
              "      <td>-0.973440</td>\n",
              "      <td>-0.106</td>\n",
              "      <td>-0.106</td>\n",
              "      <td>-0.654654</td>\n",
              "      <td>-0.106</td>\n",
              "      <td>-0.551677</td>\n",
              "      <td>-0.290409</td>\n",
              "      <td>5.385165</td>\n",
              "      <td>-0.333333</td>\n",
              "      <td>-0.106</td>\n",
              "      <td>-0.242536</td>\n",
              "      <td>-0.429198</td>\n",
              "      <td>0.797724</td>\n",
              "      <td>-0.568796</td>\n",
              "      <td>-0.410891</td>\n",
              "      <td>-0.410891</td>\n",
              "      <td>-0.150756</td>\n",
              "      <td>1.253566</td>\n",
              "      <td>-0.150756</td>\n",
              "      <td>-0.392232</td>\n",
              "      <td>-0.106000</td>\n",
              "      <td>-0.106000</td>\n",
              "      <td>-0.106000</td>\n",
              "      <td>-0.106000</td>\n",
              "      <td>-0.106000</td>\n",
              "      <td>-0.106</td>\n",
              "      <td>-0.106</td>\n",
              "      <td>-0.106</td>\n",
              "      <td>-0.106</td>\n",
              "      <td>-0.106</td>\n",
              "      <td>-0.106</td>\n",
              "      <td>-0.106</td>\n",
              "      <td>-0.106</td>\n",
              "      <td>-0.106</td>\n",
              "      <td>...</td>\n",
              "      <td>-0.150756</td>\n",
              "      <td>-0.106</td>\n",
              "      <td>-0.106</td>\n",
              "      <td>-0.106</td>\n",
              "      <td>-0.106</td>\n",
              "      <td>-0.106</td>\n",
              "      <td>-0.150756</td>\n",
              "      <td>-0.106</td>\n",
              "      <td>-0.150756</td>\n",
              "      <td>-0.150756</td>\n",
              "      <td>-0.106</td>\n",
              "      <td>-0.150756</td>\n",
              "      <td>-0.150756</td>\n",
              "      <td>-0.106</td>\n",
              "      <td>-0.106</td>\n",
              "      <td>-0.150756</td>\n",
              "      <td>-0.150756</td>\n",
              "      <td>-0.150756</td>\n",
              "      <td>-0.106</td>\n",
              "      <td>-0.106</td>\n",
              "      <td>-0.106</td>\n",
              "      <td>-0.150756</td>\n",
              "      <td>-0.215666</td>\n",
              "      <td>-0.185695</td>\n",
              "      <td>-0.215666</td>\n",
              "      <td>-0.267261</td>\n",
              "      <td>-0.106</td>\n",
              "      <td>-0.242536</td>\n",
              "      <td>-0.106</td>\n",
              "      <td>-0.215666</td>\n",
              "      <td>-0.185695</td>\n",
              "      <td>-0.215666</td>\n",
              "      <td>-0.185695</td>\n",
              "      <td>9.433981</td>\n",
              "      <td>-0.534522</td>\n",
              "      <td>0.534522</td>\n",
              "      <td>0.835532</td>\n",
              "      <td>-0.835532</td>\n",
              "      <td>-0.517306</td>\n",
              "      <td>0.517306</td>\n",
              "    </tr>\n",
              "  </tbody>\n",
              "</table>\n",
              "<p>90 rows × 85 columns</p>\n",
              "</div>"
            ],
            "text/plain": [
              "          0         1         2   ...        82        83        84\n",
              "0  -1.712912 -1.712912 -1.712912  ... -0.835532  1.933091 -1.933091\n",
              "1  -1.674419 -1.674419 -1.674419  ... -0.835532  1.933091 -1.933091\n",
              "2  -1.635927 -1.635927 -1.635927  ... -0.835532  1.933091 -1.933091\n",
              "3  -1.597434 -1.597434 -1.597434  ... -0.835532  1.933091 -1.933091\n",
              "4  -1.558942 -1.558942 -1.558942  ... -0.835532  1.933091 -1.933091\n",
              "..       ...       ...       ...  ...       ...       ...       ...\n",
              "85  1.558942  1.558942  1.558942  ...  1.196843 -0.517306  0.517306\n",
              "86  1.597434  1.597434  1.597434  ...  1.196843 -0.517306  0.517306\n",
              "87  1.635927  1.635927  1.635927  ...  1.196843 -0.517306  0.517306\n",
              "88  1.674419  1.674419  1.674419  ...  1.196843 -0.517306  0.517306\n",
              "89  1.712912  1.712912  1.712912  ... -0.835532 -0.517306  0.517306\n",
              "\n",
              "[90 rows x 85 columns]"
            ]
          },
          "metadata": {},
          "execution_count": 37
        }
      ]
    },
    {
      "cell_type": "markdown",
      "metadata": {
        "id": "i_ISZCPvy_7X"
      },
      "source": [
        "We split the data into training and testing data using the  function  <code>train_test_split</code>.   The training data is divided into validation data, a second set used for training  data; then the models are trained and hyperparameters are selected using the function <code>GridSearchCV</code>.\n"
      ]
    },
    {
      "cell_type": "markdown",
      "metadata": {
        "id": "7FeKsxSfy_7X"
      },
      "source": [
        "## TASK  3\n"
      ]
    },
    {
      "cell_type": "markdown",
      "metadata": {
        "id": "h3zEDjXRy_7Y"
      },
      "source": [
        "Use the function train_test_split to split the data X and Y into training and test data. Set the parameter test_size to  0.2 and random_state to 2. The training data and test data should be assigned to the following labels.\n"
      ]
    },
    {
      "cell_type": "markdown",
      "metadata": {
        "id": "5A0heRGAy_7Z"
      },
      "source": [
        "<code>X_train, X_test, Y_train, Y_test</code>\n"
      ]
    },
    {
      "cell_type": "code",
      "metadata": {
        "id": "m5czMU36y_7b"
      },
      "source": [
        "X_train, X_test = train_test_split(X, test_size=0.2, random_state=2)\n",
        "Y_train, Y_test = train_test_split(Y, test_size=0.2, random_state=2)"
      ],
      "execution_count": null,
      "outputs": []
    },
    {
      "cell_type": "markdown",
      "metadata": {
        "id": "gXBhk4yyy_7c"
      },
      "source": [
        "we can see we only have 18 test samples.\n"
      ]
    },
    {
      "cell_type": "code",
      "metadata": {
        "colab": {
          "base_uri": "https://localhost:8080/"
        },
        "id": "g1FVUWyny_7d",
        "outputId": "efcf5819-bdc9-4d80-d458-ec62fa247ae4"
      },
      "source": [
        "Y_test.shape"
      ],
      "execution_count": null,
      "outputs": [
        {
          "output_type": "execute_result",
          "data": {
            "text/plain": [
              "(18,)"
            ]
          },
          "metadata": {},
          "execution_count": 41
        }
      ]
    },
    {
      "cell_type": "markdown",
      "metadata": {
        "id": "RH-6xG9Iy_7d"
      },
      "source": [
        "## TASK  4\n"
      ]
    },
    {
      "cell_type": "markdown",
      "metadata": {
        "id": "n1lZKv6Zy_7e"
      },
      "source": [
        "Create a logistic regression object  then create a  GridSearchCV object  <code>logreg_cv</code> with cv = 10.  Fit the object to find the best parameters from the dictionary <code>parameters</code>.\n"
      ]
    },
    {
      "cell_type": "code",
      "metadata": {
        "id": "Yp1DyYGzQk7b"
      },
      "source": [
        ""
      ],
      "execution_count": null,
      "outputs": []
    },
    {
      "cell_type": "code",
      "metadata": {
        "id": "Phgq-kf5y_7e"
      },
      "source": [
        "parameters ={'C':[0.01,0.1,1],\n",
        "             'penalty':['l2'],\n",
        "             'solver':['lbfgs']}"
      ],
      "execution_count": null,
      "outputs": []
    },
    {
      "cell_type": "code",
      "metadata": {
        "colab": {
          "base_uri": "https://localhost:8080/"
        },
        "id": "oVpUfRojy_7f",
        "outputId": "14989b2f-dfa7-4078-d99b-c3881afe9fbc"
      },
      "source": [
        "parameters ={\"C\":[0.01,0.1,1],'penalty':['l2'], 'solver':['lbfgs']}# l1 lasso l2 ridge\n",
        "lr=LogisticRegression()\n",
        "logreg_cv = GridSearchCV(lr, param_grid=parameters, cv=10)\n",
        "logreg_cv.fit(X_train, Y_train)"
      ],
      "execution_count": null,
      "outputs": [
        {
          "output_type": "execute_result",
          "data": {
            "text/plain": [
              "GridSearchCV(cv=10, error_score=nan,\n",
              "             estimator=LogisticRegression(C=1.0, class_weight=None, dual=False,\n",
              "                                          fit_intercept=True,\n",
              "                                          intercept_scaling=1, l1_ratio=None,\n",
              "                                          max_iter=100, multi_class='auto',\n",
              "                                          n_jobs=None, penalty='l2',\n",
              "                                          random_state=None, solver='lbfgs',\n",
              "                                          tol=0.0001, verbose=0,\n",
              "                                          warm_start=False),\n",
              "             iid='deprecated', n_jobs=None,\n",
              "             param_grid={'C': [0.01, 0.1, 1], 'penalty': ['l2'],\n",
              "                         'solver': ['lbfgs']},\n",
              "             pre_dispatch='2*n_jobs', refit=True, return_train_score=False,\n",
              "             scoring=None, verbose=0)"
            ]
          },
          "metadata": {},
          "execution_count": 45
        }
      ]
    },
    {
      "cell_type": "markdown",
      "metadata": {
        "id": "NuBlJSxSy_7g"
      },
      "source": [
        "We output the <code>GridSearchCV</code> object for logistic regression. We display the best parameters using the data attribute <code>best_params\\_</code> and the accuracy on the validation data using the data attribute <code>best_score\\_</code>.\n"
      ]
    },
    {
      "cell_type": "code",
      "metadata": {
        "colab": {
          "base_uri": "https://localhost:8080/"
        },
        "id": "M15a_9Bby_7h",
        "outputId": "1e993ea4-cf05-476e-dc4a-99a227e4938b"
      },
      "source": [
        "print(\"tuned hpyerparameters :(best parameters) \",logreg_cv.best_params_)\n",
        "print(\"accuracy :\",logreg_cv.best_score_)"
      ],
      "execution_count": null,
      "outputs": [
        {
          "output_type": "stream",
          "name": "stdout",
          "text": [
            "tuned hpyerparameters :(best parameters)  {'C': 0.01, 'penalty': 'l2', 'solver': 'lbfgs'}\n",
            "accuracy : 0.8321428571428571\n"
          ]
        }
      ]
    },
    {
      "cell_type": "markdown",
      "metadata": {
        "id": "ZorPb1wCy_7h"
      },
      "source": [
        "## TASK  5\n"
      ]
    },
    {
      "cell_type": "markdown",
      "metadata": {
        "id": "O-GPtrl2y_7i"
      },
      "source": [
        "Calculate the accuracy on the test data using the method <code>score</code>:\n"
      ]
    },
    {
      "cell_type": "code",
      "metadata": {
        "colab": {
          "base_uri": "https://localhost:8080/"
        },
        "id": "26wg3oYly_7i",
        "outputId": "4691cfbd-4896-4aff-c8b4-d99021e44aed"
      },
      "source": [
        "logreg_cv.score(X_train, Y_train)"
      ],
      "execution_count": null,
      "outputs": [
        {
          "output_type": "execute_result",
          "data": {
            "text/plain": [
              "0.875"
            ]
          },
          "metadata": {},
          "execution_count": 55
        }
      ]
    },
    {
      "cell_type": "markdown",
      "metadata": {
        "id": "RDBmuN2yy_7i"
      },
      "source": [
        "Lets look at the confusion matrix:\n"
      ]
    },
    {
      "cell_type": "code",
      "metadata": {
        "colab": {
          "base_uri": "https://localhost:8080/",
          "height": 295
        },
        "id": "R-KKoc5Ky_7i",
        "outputId": "683cae73-e431-4542-9a02-9fb4c99e29a5"
      },
      "source": [
        "yhat=logreg_cv.predict(X_test)\n",
        "plot_confusion_matrix(Y_test,yhat)"
      ],
      "execution_count": null,
      "outputs": [
        {
          "output_type": "display_data",
          "data": {
            "image/png": "[encoded data removed]",
            "text/plain": [
              "<Figure size 432x288 with 2 Axes>"
            ]
          },
          "metadata": {
            "needs_background": "light"
          }
        }
      ]
    },
    {
      "cell_type": "markdown",
      "metadata": {
        "id": "SuMMi5xOy_7i"
      },
      "source": [
        "Examining the confusion matrix, we see that logistic regression can distinguish between the different classes.  We see that the major problem is false positives.\n"
      ]
    },
    {
      "cell_type": "markdown",
      "metadata": {
        "id": "m7eX39QDy_7j"
      },
      "source": [
        "## TASK  6\n"
      ]
    },
    {
      "cell_type": "markdown",
      "metadata": {
        "id": "ylJNsOjvy_7j"
      },
      "source": [
        "Create a support vector machine object then  create a  <code>GridSearchCV</code> object  <code>svm_cv</code> with cv - 10.  Fit the object to find the best parameters from the dictionary <code>parameters</code>.\n"
      ]
    },
    {
      "cell_type": "code",
      "metadata": {
        "id": "_wALLdS1y_7j"
      },
      "source": [
        "parameters = {'kernel':('linear', 'rbf','poly','rbf', 'sigmoid'),\n",
        "              'C': np.logspace(-3, 3, 5),\n",
        "              'gamma':np.logspace(-3, 3, 5)}\n",
        "svm = SVC()"
      ],
      "execution_count": null,
      "outputs": []
    },
    {
      "cell_type": "code",
      "metadata": {
        "colab": {
          "base_uri": "https://localhost:8080/"
        },
        "id": "2KiHZpjty_7j",
        "outputId": "09954fba-ef2f-4722-f7df-133cd76e68b2"
      },
      "source": [
        "svm_cv = GridSearchCV(svm, parameters, cv=10)\n",
        "svm_cv.fit(X_train, Y_train)"
      ],
      "execution_count": null,
      "outputs": [
        {
          "output_type": "execute_result",
          "data": {
            "text/plain": [
              "GridSearchCV(cv=10, error_score=nan,\n",
              "             estimator=SVC(C=1.0, break_ties=False, cache_size=200,\n",
              "                           class_weight=None, coef0=0.0,\n",
              "                           decision_function_shape='ovr', degree=3,\n",
              "                           gamma='scale', kernel='rbf', max_iter=-1,\n",
              "                           probability=False, random_state=None, shrinking=True,\n",
              "                           tol=0.001, verbose=False),\n",
              "             iid='deprecated', n_jobs=None,\n",
              "             param_grid={'C': array([1.00000000e-03, 3.16227766e-02, 1.00000000e+00, 3.16227766e+01,\n",
              "       1.00000000e+03]),\n",
              "                         'gamma': array([1.00000000e-03, 3.16227766e-02, 1.00000000e+00, 3.16227766e+01,\n",
              "       1.00000000e+03]),\n",
              "                         'kernel': ('linear', 'rbf', 'poly', 'rbf', 'sigmoid')},\n",
              "             pre_dispatch='2*n_jobs', refit=True, return_train_score=False,\n",
              "             scoring=None, verbose=0)"
            ]
          },
          "metadata": {},
          "execution_count": 62
        }
      ]
    },
    {
      "cell_type": "code",
      "metadata": {
        "colab": {
          "base_uri": "https://localhost:8080/"
        },
        "id": "_PdNT8hEy_7j",
        "outputId": "d048eff8-5a4d-4dee-856a-5b7310650954"
      },
      "source": [
        "print(\"tuned hpyerparameters :(best parameters) \",svm_cv.best_params_)\n",
        "print(\"accuracy :\",svm_cv.best_score_)"
      ],
      "execution_count": null,
      "outputs": [
        {
          "output_type": "stream",
          "name": "stdout",
          "text": [
            "tuned hpyerparameters :(best parameters)  {'C': 0.03162277660168379, 'gamma': 0.001, 'kernel': 'linear'}\n",
            "accuracy : 0.8214285714285714\n"
          ]
        }
      ]
    },
    {
      "cell_type": "markdown",
      "metadata": {
        "id": "iOt0TCbYy_7k"
      },
      "source": [
        "## TASK  7\n"
      ]
    },
    {
      "cell_type": "markdown",
      "metadata": {
        "id": "r7xjIDXey_7k"
      },
      "source": [
        "Calculate the accuracy on the test data using the method <code>score</code>:\n"
      ]
    },
    {
      "cell_type": "code",
      "metadata": {
        "colab": {
          "base_uri": "https://localhost:8080/"
        },
        "id": "vSQ5LvH-y_7k",
        "outputId": "8a99dda8-ccac-45fa-ab2e-a17bf20a60f1"
      },
      "source": [
        "svm_cv.score(X_test, Y_test)"
      ],
      "execution_count": null,
      "outputs": [
        {
          "output_type": "execute_result",
          "data": {
            "text/plain": [
              "0.8333333333333334"
            ]
          },
          "metadata": {},
          "execution_count": 65
        }
      ]
    },
    {
      "cell_type": "markdown",
      "metadata": {
        "id": "kngxEMkly_7k"
      },
      "source": [
        "We can plot the confusion matrix\n"
      ]
    },
    {
      "cell_type": "code",
      "metadata": {
        "colab": {
          "base_uri": "https://localhost:8080/",
          "height": 295
        },
        "id": "8hqDE59Ky_7k",
        "outputId": "0f96a322-4311-4018-fb58-00fa465de7d0"
      },
      "source": [
        "yhat=svm_cv.predict(X_test)\n",
        "plot_confusion_matrix(Y_test,yhat)"
      ],
      "execution_count": null,
      "outputs": [
        {
          "output_type": "display_data",
          "data": {
            "image/png": "[encoded data removed]",
            "text/plain": [
              "<Figure size 432x288 with 2 Axes>"
            ]
          },
          "metadata": {
            "needs_background": "light"
          }
        }
      ]
    },
    {
      "cell_type": "markdown",
      "metadata": {
        "id": "NtlCvbayy_7k"
      },
      "source": [
        "## TASK  8\n"
      ]
    },
    {
      "cell_type": "markdown",
      "metadata": {
        "id": "rZey8FnCy_7k"
      },
      "source": [
        "Create a decision tree classifier object then  create a  <code>GridSearchCV</code> object  <code>tree_cv</code> with cv = 10.  Fit the object to find the best parameters from the dictionary <code>parameters</code>.\n"
      ]
    },
    {
      "cell_type": "code",
      "metadata": {
        "id": "t9uHbZ78y_7k"
      },
      "source": [
        "parameters = {'criterion': ['gini', 'entropy'],\n",
        "     'splitter': ['best', 'random'],\n",
        "     'max_depth': [2*n for n in range(1,10)],\n",
        "     'max_features': ['auto', 'sqrt'],\n",
        "     'min_samples_leaf': [1, 2, 4],\n",
        "     'min_samples_split': [2, 5, 10]}\n",
        "\n",
        "tree = DecisionTreeClassifier()"
      ],
      "execution_count": null,
      "outputs": []
    },
    {
      "cell_type": "code",
      "metadata": {
        "colab": {
          "base_uri": "https://localhost:8080/"
        },
        "id": "2xAA6W3Py_7k",
        "outputId": "a3d2db01-468f-495a-ad4b-4d4ed12606e0"
      },
      "source": [
        "tree_cv = GridSearchCV(tree, parameters, cv=10)\n",
        "tree_cv.fit(X_train, Y_train)"
      ],
      "execution_count": null,
      "outputs": [
        {
          "output_type": "execute_result",
          "data": {
            "text/plain": [
              "GridSearchCV(cv=10, error_score=nan,\n",
              "             estimator=DecisionTreeClassifier(ccp_alpha=0.0, class_weight=None,\n",
              "                                              criterion='gini', max_depth=None,\n",
              "                                              max_features=None,\n",
              "                                              max_leaf_nodes=None,\n",
              "                                              min_impurity_decrease=0.0,\n",
              "                                              min_impurity_split=None,\n",
              "                                              min_samples_leaf=1,\n",
              "                                              min_samples_split=2,\n",
              "                                              min_weight_fraction_leaf=0.0,\n",
              "                                              presort='deprecated',\n",
              "                                              random_state=None,\n",
              "                                              splitter='best'),\n",
              "             iid='deprecated', n_jobs=None,\n",
              "             param_grid={'criterion': ['gini', 'entropy'],\n",
              "                         'max_depth': [2, 4, 6, 8, 10, 12, 14, 16, 18],\n",
              "                         'max_features': ['auto', 'sqrt'],\n",
              "                         'min_samples_leaf': [1, 2, 4],\n",
              "                         'min_samples_split': [2, 5, 10],\n",
              "                         'splitter': ['best', 'random']},\n",
              "             pre_dispatch='2*n_jobs', refit=True, return_train_score=False,\n",
              "             scoring=None, verbose=0)"
            ]
          },
          "metadata": {},
          "execution_count": 72
        }
      ]
    },
    {
      "cell_type": "code",
      "metadata": {
        "colab": {
          "base_uri": "https://localhost:8080/"
        },
        "id": "9bdpwS7Ny_7k",
        "outputId": "a1b5fd3e-3724-484e-99cf-202b383cd9ba"
      },
      "source": [
        "print(\"tuned hpyerparameters :(best parameters) \",tree_cv.best_params_)\n",
        "print(\"accuracy :\",tree_cv.best_score_)"
      ],
      "execution_count": null,
      "outputs": [
        {
          "output_type": "stream",
          "name": "stdout",
          "text": [
            "tuned hpyerparameters :(best parameters)  {'criterion': 'entropy', 'max_depth': 4, 'max_features': 'sqrt', 'min_samples_leaf': 4, 'min_samples_split': 10, 'splitter': 'random'}\n",
            "accuracy : 0.8892857142857145\n"
          ]
        }
      ]
    },
    {
      "cell_type": "markdown",
      "metadata": {
        "id": "pFZKQHGsy_7l"
      },
      "source": [
        "## TASK  9\n"
      ]
    },
    {
      "cell_type": "markdown",
      "metadata": {
        "id": "hpnd3dMLy_7l"
      },
      "source": [
        "Calculate the accuracy of tree_cv on the test data using the method <code>score</code>:\n"
      ]
    },
    {
      "cell_type": "code",
      "metadata": {
        "colab": {
          "base_uri": "https://localhost:8080/"
        },
        "id": "8L9vLcITy_7l",
        "outputId": "a49c75e9-e153-48df-c5f8-f994113415bc"
      },
      "source": [
        "tree_cv.score(X_test, Y_test)"
      ],
      "execution_count": null,
      "outputs": [
        {
          "output_type": "execute_result",
          "data": {
            "text/plain": [
              "0.8333333333333334"
            ]
          },
          "metadata": {},
          "execution_count": 74
        }
      ]
    },
    {
      "cell_type": "markdown",
      "metadata": {
        "id": "6jFXfnQYy_7l"
      },
      "source": [
        "We can plot the confusion matrix\n"
      ]
    },
    {
      "cell_type": "code",
      "metadata": {
        "colab": {
          "base_uri": "https://localhost:8080/",
          "height": 295
        },
        "id": "IwtJx7IEy_7l",
        "outputId": "0ed6a79a-5c18-4def-9e8d-cdd7765be8d2"
      },
      "source": [
        "yhat = svm_cv.predict(X_test)\n",
        "plot_confusion_matrix(Y_test,yhat)"
      ],
      "execution_count": null,
      "outputs": [
        {
          "output_type": "display_data",
          "data": {
            "image/png": "[encoded data removed]",
            "text/plain": [
              "<Figure size 432x288 with 2 Axes>"
            ]
          },
          "metadata": {
            "needs_background": "light"
          }
        }
      ]
    },
    {
      "cell_type": "markdown",
      "metadata": {
        "id": "eW-yN9K2y_7l"
      },
      "source": [
        "## TASK  10\n"
      ]
    },
    {
      "cell_type": "markdown",
      "metadata": {
        "id": "TEPo59PDy_7l"
      },
      "source": [
        "Create a k nearest neighbors object then  create a  <code>GridSearchCV</code> object  <code>knn_cv</code> with cv = 10.  Fit the object to find the best parameters from the dictionary <code>parameters</code>.\n"
      ]
    },
    {
      "cell_type": "code",
      "metadata": {
        "id": "vkjfn3fPy_7l"
      },
      "source": [
        "parameters = {'n_neighbors': [1, 2, 3, 4, 5, 6, 7, 8, 9, 10],g\n",
        "              'algorithm': ['auto', 'ball_tree', 'kd_tree', 'brute'],\n",
        "              'p': [1,2]}\n",
        "\n",
        "KNN = KNeighborsClassifier()"
      ],
      "execution_count": null,
      "outputs": []
    },
    {
      "cell_type": "code",
      "metadata": {
        "colab": {
          "base_uri": "https://localhost:8080/"
        },
        "id": "-Nw9KP1Ly_7l",
        "outputId": "23f60922-f484-4661-c401-f20f8d614d27"
      },
      "source": [
        "knn_cv = GridSearchCV(KNN, parameters, cv=10)\n",
        "knn_cv.fit(X_train, Y_train)\n"
      ],
      "execution_count": null,
      "outputs": [
        {
          "output_type": "execute_result",
          "data": {
            "text/plain": [
              "GridSearchCV(cv=10, error_score=nan,\n",
              "             estimator=KNeighborsClassifier(algorithm='auto', leaf_size=30,\n",
              "                                            metric='minkowski',\n",
              "                                            metric_params=None, n_jobs=None,\n",
              "                                            n_neighbors=5, p=2,\n",
              "                                            weights='uniform'),\n",
              "             iid='deprecated', n_jobs=None,\n",
              "             param_grid={'algorithm': ['auto', 'ball_tree', 'kd_tree', 'brute'],\n",
              "                         'n_neighbors': [1, 2, 3, 4, 5, 6, 7, 8, 9, 10],\n",
              "                         'p': [1, 2]},\n",
              "             pre_dispatch='2*n_jobs', refit=True, return_train_score=False,\n",
              "             scoring=None, verbose=0)"
            ]
          },
          "metadata": {},
          "execution_count": 77
        }
      ]
    },
    {
      "cell_type": "code",
      "metadata": {
        "colab": {
          "base_uri": "https://localhost:8080/"
        },
        "id": "lQuBV3HDy_7l",
        "outputId": "f7cc23c0-3be1-4cea-a5de-5a042f338b11"
      },
      "source": [
        "print(\"tuned hpyerparameters :(best parameters) \",knn_cv.best_params_)\n",
        "print(\"accuracy :\",knn_cv.best_score_)"
      ],
      "execution_count": null,
      "outputs": [
        {
          "output_type": "stream",
          "name": "stdout",
          "text": [
            "tuned hpyerparameters :(best parameters)  {'algorithm': 'auto', 'n_neighbors': 4, 'p': 2}\n",
            "accuracy : 0.8464285714285713\n"
          ]
        }
      ]
    },
    {
      "cell_type": "markdown",
      "metadata": {
        "id": "vcrFkc5vy_7l"
      },
      "source": [
        "## TASK  11\n"
      ]
    },
    {
      "cell_type": "markdown",
      "metadata": {
        "id": "8iPuGHrPy_7m"
      },
      "source": [
        "Calculate the accuracy of tree_cv on the test data using the method <code>score</code>:\n"
      ]
    },
    {
      "cell_type": "code",
      "metadata": {
        "colab": {
          "base_uri": "https://localhost:8080/"
        },
        "id": "yO-s9233y_7m",
        "outputId": "60e2bf7a-aa93-41d4-e576-9979d4d7764b"
      },
      "source": [
        "knn_cv.score(X_test, Y_test)"
      ],
      "execution_count": null,
      "outputs": [
        {
          "output_type": "execute_result",
          "data": {
            "text/plain": [
              "0.7777777777777778"
            ]
          },
          "metadata": {},
          "execution_count": 79
        }
      ]
    },
    {
      "cell_type": "markdown",
      "metadata": {
        "id": "Kf20e_2Ty_7m"
      },
      "source": [
        "We can plot the confusion matrix\n"
      ]
    },
    {
      "cell_type": "code",
      "metadata": {
        "colab": {
          "base_uri": "https://localhost:8080/",
          "height": 295
        },
        "id": "c2ndaQMHy_7m",
        "outputId": "3f058bd8-acb3-4006-9031-a48ee3f7435f"
      },
      "source": [
        "yhat = knn_cv.predict(X_test)\n",
        "plot_confusion_matrix(Y_test,yhat)"
      ],
      "execution_count": null,
      "outputs": [
        {
          "output_type": "display_data",
          "data": {
            "image/png": "[encoded data removed]",
            "text/plain": [
              "<Figure size 432x288 with 2 Axes>"
            ]
          },
          "metadata": {
            "needs_background": "light"
          }
        }
      ]
    },
    {
      "cell_type": "markdown",
      "metadata": {
        "id": "b8IjPbAuy_7m"
      },
      "source": [
        "## TASK  12\n"
      ]
    },
    {
      "cell_type": "markdown",
      "metadata": {
        "id": "CVtgVTITy_7m"
      },
      "source": [
        "Find the method performs best:\n"
      ]
    },
    {
      "cell_type": "code",
      "metadata": {
        "id": "JZMxc1ery_7m"
      },
      "source": [
        "rank()"
      ],
      "execution_count": null,
      "outputs": []
    },
    {
      "cell_type": "markdown",
      "metadata": {
        "id": "mUd28dloy_7m"
      },
      "source": [
        "## Authors\n"
      ]
    },
    {
      "cell_type": "markdown",
      "metadata": {
        "id": "g77oZwjSy_7m"
      },
      "source": [
        "<a href=\"https://www.linkedin.com/in/joseph-s-50398b136/?utm_medium=Exinfluencer&utm_source=Exinfluencer&utm_content=000026UJ&utm_term=10006555&utm_id=NA-SkillsNetwork-Channel-SkillsNetworkCoursesIBMDS0321ENSkillsNetwork26802033-2021-01-01\">Joseph Santarcangelo</a> has a PhD in Electrical Engineering, his research focused on using machine learning, signal processing, and computer vision to determine how videos impact human cognition. Joseph has been working for IBM since he completed his PhD.\n"
      ]
    },
    {
      "cell_type": "markdown",
      "metadata": {
        "id": "wZjB5j31y_7m"
      },
      "source": [
        "## Change Log\n"
      ]
    },
    {
      "cell_type": "markdown",
      "metadata": {
        "id": "KbVDrGXAy_7m"
      },
      "source": [
        "| Date (YYYY-MM-DD) | Version | Changed By    | Change Description      |\n",
        "| ----------------- | ------- | ------------- | ----------------------- |\n",
        "| 2021-08-31        | 1.1     | Lakshmi Holla | Modified markdown       |\n",
        "| 2020-09-20        | 1.0     | Joseph        | Modified Multiple Areas |\n"
      ]
    },
    {
      "cell_type": "markdown",
      "metadata": {
        "id": "UWJ4cxeNy_7m"
      },
      "source": [
        "Copyright © 2020 IBM Corporation. All rights reserved.\n"
      ]
    }
  ]
}